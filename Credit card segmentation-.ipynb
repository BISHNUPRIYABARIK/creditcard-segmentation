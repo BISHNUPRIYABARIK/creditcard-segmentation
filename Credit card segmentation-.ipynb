{
 "cells": [
  {
   "cell_type": "markdown",
   "metadata": {},
   "source": [
    "### Importing packages and dataset"
   ]
  },
  {
   "cell_type": "code",
   "execution_count": 1,
   "metadata": {},
   "outputs": [],
   "source": [
    "import pandas as pd\n",
    "import matplotlib.pyplot as plt\n",
    "import numpy as np\n",
    "%matplotlib inline\n",
    "import seaborn as sns"
   ]
  },
  {
   "cell_type": "code",
   "execution_count": 2,
   "metadata": {},
   "outputs": [
    {
     "data": {
      "text/html": [
       "<div>\n",
       "<style scoped>\n",
       "    .dataframe tbody tr th:only-of-type {\n",
       "        vertical-align: middle;\n",
       "    }\n",
       "\n",
       "    .dataframe tbody tr th {\n",
       "        vertical-align: top;\n",
       "    }\n",
       "\n",
       "    .dataframe thead th {\n",
       "        text-align: right;\n",
       "    }\n",
       "</style>\n",
       "<table border=\"1\" class=\"dataframe\">\n",
       "  <thead>\n",
       "    <tr style=\"text-align: right;\">\n",
       "      <th></th>\n",
       "      <th>CUST_ID</th>\n",
       "      <th>BALANCE</th>\n",
       "      <th>BALANCE_FREQUENCY</th>\n",
       "      <th>PURCHASES</th>\n",
       "      <th>ONEOFF_PURCHASES</th>\n",
       "      <th>INSTALLMENTS_PURCHASES</th>\n",
       "      <th>CASH_ADVANCE</th>\n",
       "      <th>PURCHASES_FREQUENCY</th>\n",
       "      <th>ONEOFF_PURCHASES_FREQUENCY</th>\n",
       "      <th>PURCHASES_INSTALLMENTS_FREQUENCY</th>\n",
       "      <th>CASH_ADVANCE_FREQUENCY</th>\n",
       "      <th>CASH_ADVANCE_TRX</th>\n",
       "      <th>PURCHASES_TRX</th>\n",
       "      <th>CREDIT_LIMIT</th>\n",
       "      <th>PAYMENTS</th>\n",
       "      <th>MINIMUM_PAYMENTS</th>\n",
       "      <th>PRC_FULL_PAYMENT</th>\n",
       "      <th>TENURE</th>\n",
       "    </tr>\n",
       "  </thead>\n",
       "  <tbody>\n",
       "    <tr>\n",
       "      <th>0</th>\n",
       "      <td>C10001</td>\n",
       "      <td>40.900749</td>\n",
       "      <td>0.818182</td>\n",
       "      <td>95.40</td>\n",
       "      <td>0.00</td>\n",
       "      <td>95.4</td>\n",
       "      <td>0.000000</td>\n",
       "      <td>0.166667</td>\n",
       "      <td>0.000000</td>\n",
       "      <td>0.083333</td>\n",
       "      <td>0.000000</td>\n",
       "      <td>0</td>\n",
       "      <td>2</td>\n",
       "      <td>1000.0</td>\n",
       "      <td>201.802084</td>\n",
       "      <td>139.509787</td>\n",
       "      <td>0.000000</td>\n",
       "      <td>12</td>\n",
       "    </tr>\n",
       "    <tr>\n",
       "      <th>1</th>\n",
       "      <td>C10002</td>\n",
       "      <td>3202.467416</td>\n",
       "      <td>0.909091</td>\n",
       "      <td>0.00</td>\n",
       "      <td>0.00</td>\n",
       "      <td>0.0</td>\n",
       "      <td>6442.945483</td>\n",
       "      <td>0.000000</td>\n",
       "      <td>0.000000</td>\n",
       "      <td>0.000000</td>\n",
       "      <td>0.250000</td>\n",
       "      <td>4</td>\n",
       "      <td>0</td>\n",
       "      <td>7000.0</td>\n",
       "      <td>4103.032597</td>\n",
       "      <td>1072.340217</td>\n",
       "      <td>0.222222</td>\n",
       "      <td>12</td>\n",
       "    </tr>\n",
       "    <tr>\n",
       "      <th>2</th>\n",
       "      <td>C10003</td>\n",
       "      <td>2495.148862</td>\n",
       "      <td>1.000000</td>\n",
       "      <td>773.17</td>\n",
       "      <td>773.17</td>\n",
       "      <td>0.0</td>\n",
       "      <td>0.000000</td>\n",
       "      <td>1.000000</td>\n",
       "      <td>1.000000</td>\n",
       "      <td>0.000000</td>\n",
       "      <td>0.000000</td>\n",
       "      <td>0</td>\n",
       "      <td>12</td>\n",
       "      <td>7500.0</td>\n",
       "      <td>622.066742</td>\n",
       "      <td>627.284787</td>\n",
       "      <td>0.000000</td>\n",
       "      <td>12</td>\n",
       "    </tr>\n",
       "    <tr>\n",
       "      <th>3</th>\n",
       "      <td>C10004</td>\n",
       "      <td>1666.670542</td>\n",
       "      <td>0.636364</td>\n",
       "      <td>1499.00</td>\n",
       "      <td>1499.00</td>\n",
       "      <td>0.0</td>\n",
       "      <td>205.788017</td>\n",
       "      <td>0.083333</td>\n",
       "      <td>0.083333</td>\n",
       "      <td>0.000000</td>\n",
       "      <td>0.083333</td>\n",
       "      <td>1</td>\n",
       "      <td>1</td>\n",
       "      <td>7500.0</td>\n",
       "      <td>0.000000</td>\n",
       "      <td>NaN</td>\n",
       "      <td>0.000000</td>\n",
       "      <td>12</td>\n",
       "    </tr>\n",
       "    <tr>\n",
       "      <th>4</th>\n",
       "      <td>C10005</td>\n",
       "      <td>817.714335</td>\n",
       "      <td>1.000000</td>\n",
       "      <td>16.00</td>\n",
       "      <td>16.00</td>\n",
       "      <td>0.0</td>\n",
       "      <td>0.000000</td>\n",
       "      <td>0.083333</td>\n",
       "      <td>0.083333</td>\n",
       "      <td>0.000000</td>\n",
       "      <td>0.000000</td>\n",
       "      <td>0</td>\n",
       "      <td>1</td>\n",
       "      <td>1200.0</td>\n",
       "      <td>678.334763</td>\n",
       "      <td>244.791237</td>\n",
       "      <td>0.000000</td>\n",
       "      <td>12</td>\n",
       "    </tr>\n",
       "  </tbody>\n",
       "</table>\n",
       "</div>"
      ],
      "text/plain": [
       "  CUST_ID      BALANCE  BALANCE_FREQUENCY  PURCHASES  ONEOFF_PURCHASES  \\\n",
       "0  C10001    40.900749           0.818182      95.40              0.00   \n",
       "1  C10002  3202.467416           0.909091       0.00              0.00   \n",
       "2  C10003  2495.148862           1.000000     773.17            773.17   \n",
       "3  C10004  1666.670542           0.636364    1499.00           1499.00   \n",
       "4  C10005   817.714335           1.000000      16.00             16.00   \n",
       "\n",
       "   INSTALLMENTS_PURCHASES  CASH_ADVANCE  PURCHASES_FREQUENCY  \\\n",
       "0                    95.4      0.000000             0.166667   \n",
       "1                     0.0   6442.945483             0.000000   \n",
       "2                     0.0      0.000000             1.000000   \n",
       "3                     0.0    205.788017             0.083333   \n",
       "4                     0.0      0.000000             0.083333   \n",
       "\n",
       "   ONEOFF_PURCHASES_FREQUENCY  PURCHASES_INSTALLMENTS_FREQUENCY  \\\n",
       "0                    0.000000                          0.083333   \n",
       "1                    0.000000                          0.000000   \n",
       "2                    1.000000                          0.000000   \n",
       "3                    0.083333                          0.000000   \n",
       "4                    0.083333                          0.000000   \n",
       "\n",
       "   CASH_ADVANCE_FREQUENCY  CASH_ADVANCE_TRX  PURCHASES_TRX  CREDIT_LIMIT  \\\n",
       "0                0.000000                 0              2        1000.0   \n",
       "1                0.250000                 4              0        7000.0   \n",
       "2                0.000000                 0             12        7500.0   \n",
       "3                0.083333                 1              1        7500.0   \n",
       "4                0.000000                 0              1        1200.0   \n",
       "\n",
       "      PAYMENTS  MINIMUM_PAYMENTS  PRC_FULL_PAYMENT  TENURE  \n",
       "0   201.802084        139.509787          0.000000      12  \n",
       "1  4103.032597       1072.340217          0.222222      12  \n",
       "2   622.066742        627.284787          0.000000      12  \n",
       "3     0.000000               NaN          0.000000      12  \n",
       "4   678.334763        244.791237          0.000000      12  "
      ]
     },
     "execution_count": 2,
     "metadata": {},
     "output_type": "execute_result"
    }
   ],
   "source": [
    "cc=pd.read_csv('E:/analytixlabs/statistics.py/project data advanced/4. CREDIT CARD CASE STUDY - SEGMENTATION/CC GENERAL.csv')\n",
    "cc.head()"
   ]
  },
  {
   "cell_type": "code",
   "execution_count": 3,
   "metadata": {},
   "outputs": [
    {
     "name": "stdout",
     "output_type": "stream",
     "text": [
      "<class 'pandas.core.frame.DataFrame'>\n",
      "RangeIndex: 8950 entries, 0 to 8949\n",
      "Data columns (total 18 columns):\n",
      "CUST_ID                             8950 non-null object\n",
      "BALANCE                             8950 non-null float64\n",
      "BALANCE_FREQUENCY                   8950 non-null float64\n",
      "PURCHASES                           8950 non-null float64\n",
      "ONEOFF_PURCHASES                    8950 non-null float64\n",
      "INSTALLMENTS_PURCHASES              8950 non-null float64\n",
      "CASH_ADVANCE                        8950 non-null float64\n",
      "PURCHASES_FREQUENCY                 8950 non-null float64\n",
      "ONEOFF_PURCHASES_FREQUENCY          8950 non-null float64\n",
      "PURCHASES_INSTALLMENTS_FREQUENCY    8950 non-null float64\n",
      "CASH_ADVANCE_FREQUENCY              8950 non-null float64\n",
      "CASH_ADVANCE_TRX                    8950 non-null int64\n",
      "PURCHASES_TRX                       8950 non-null int64\n",
      "CREDIT_LIMIT                        8949 non-null float64\n",
      "PAYMENTS                            8950 non-null float64\n",
      "MINIMUM_PAYMENTS                    8637 non-null float64\n",
      "PRC_FULL_PAYMENT                    8950 non-null float64\n",
      "TENURE                              8950 non-null int64\n",
      "dtypes: float64(14), int64(3), object(1)\n",
      "memory usage: 1.2+ MB\n"
     ]
    }
   ],
   "source": [
    "cc.info()"
   ]
  },
  {
   "cell_type": "markdown",
   "metadata": {},
   "source": [
    "### Descriptive analysis of the data"
   ]
  },
  {
   "cell_type": "code",
   "execution_count": 4,
   "metadata": {},
   "outputs": [
    {
     "data": {
      "text/html": [
       "<div>\n",
       "<style scoped>\n",
       "    .dataframe tbody tr th:only-of-type {\n",
       "        vertical-align: middle;\n",
       "    }\n",
       "\n",
       "    .dataframe tbody tr th {\n",
       "        vertical-align: top;\n",
       "    }\n",
       "\n",
       "    .dataframe thead th {\n",
       "        text-align: right;\n",
       "    }\n",
       "</style>\n",
       "<table border=\"1\" class=\"dataframe\">\n",
       "  <thead>\n",
       "    <tr style=\"text-align: right;\">\n",
       "      <th></th>\n",
       "      <th>BALANCE</th>\n",
       "      <th>BALANCE_FREQUENCY</th>\n",
       "      <th>PURCHASES</th>\n",
       "      <th>ONEOFF_PURCHASES</th>\n",
       "      <th>INSTALLMENTS_PURCHASES</th>\n",
       "      <th>CASH_ADVANCE</th>\n",
       "      <th>PURCHASES_FREQUENCY</th>\n",
       "      <th>ONEOFF_PURCHASES_FREQUENCY</th>\n",
       "      <th>PURCHASES_INSTALLMENTS_FREQUENCY</th>\n",
       "      <th>CASH_ADVANCE_FREQUENCY</th>\n",
       "      <th>CASH_ADVANCE_TRX</th>\n",
       "      <th>PURCHASES_TRX</th>\n",
       "      <th>CREDIT_LIMIT</th>\n",
       "      <th>PAYMENTS</th>\n",
       "      <th>MINIMUM_PAYMENTS</th>\n",
       "      <th>PRC_FULL_PAYMENT</th>\n",
       "      <th>TENURE</th>\n",
       "    </tr>\n",
       "  </thead>\n",
       "  <tbody>\n",
       "    <tr>\n",
       "      <th>count</th>\n",
       "      <td>8950.000000</td>\n",
       "      <td>8950.000000</td>\n",
       "      <td>8950.000000</td>\n",
       "      <td>8950.000000</td>\n",
       "      <td>8950.000000</td>\n",
       "      <td>8950.000000</td>\n",
       "      <td>8950.000000</td>\n",
       "      <td>8950.000000</td>\n",
       "      <td>8950.000000</td>\n",
       "      <td>8950.000000</td>\n",
       "      <td>8950.000000</td>\n",
       "      <td>8950.000000</td>\n",
       "      <td>8949.000000</td>\n",
       "      <td>8950.000000</td>\n",
       "      <td>8637.000000</td>\n",
       "      <td>8950.000000</td>\n",
       "      <td>8950.000000</td>\n",
       "    </tr>\n",
       "    <tr>\n",
       "      <th>mean</th>\n",
       "      <td>1564.474828</td>\n",
       "      <td>0.877271</td>\n",
       "      <td>1003.204834</td>\n",
       "      <td>592.437371</td>\n",
       "      <td>411.067645</td>\n",
       "      <td>978.871112</td>\n",
       "      <td>0.490351</td>\n",
       "      <td>0.202458</td>\n",
       "      <td>0.364437</td>\n",
       "      <td>0.135144</td>\n",
       "      <td>3.248827</td>\n",
       "      <td>14.709832</td>\n",
       "      <td>4494.449450</td>\n",
       "      <td>1733.143852</td>\n",
       "      <td>864.206542</td>\n",
       "      <td>0.153715</td>\n",
       "      <td>11.517318</td>\n",
       "    </tr>\n",
       "    <tr>\n",
       "      <th>std</th>\n",
       "      <td>2081.531879</td>\n",
       "      <td>0.236904</td>\n",
       "      <td>2136.634782</td>\n",
       "      <td>1659.887917</td>\n",
       "      <td>904.338115</td>\n",
       "      <td>2097.163877</td>\n",
       "      <td>0.401371</td>\n",
       "      <td>0.298336</td>\n",
       "      <td>0.397448</td>\n",
       "      <td>0.200121</td>\n",
       "      <td>6.824647</td>\n",
       "      <td>24.857649</td>\n",
       "      <td>3638.815725</td>\n",
       "      <td>2895.063757</td>\n",
       "      <td>2372.446607</td>\n",
       "      <td>0.292499</td>\n",
       "      <td>1.338331</td>\n",
       "    </tr>\n",
       "    <tr>\n",
       "      <th>min</th>\n",
       "      <td>0.000000</td>\n",
       "      <td>0.000000</td>\n",
       "      <td>0.000000</td>\n",
       "      <td>0.000000</td>\n",
       "      <td>0.000000</td>\n",
       "      <td>0.000000</td>\n",
       "      <td>0.000000</td>\n",
       "      <td>0.000000</td>\n",
       "      <td>0.000000</td>\n",
       "      <td>0.000000</td>\n",
       "      <td>0.000000</td>\n",
       "      <td>0.000000</td>\n",
       "      <td>50.000000</td>\n",
       "      <td>0.000000</td>\n",
       "      <td>0.019163</td>\n",
       "      <td>0.000000</td>\n",
       "      <td>6.000000</td>\n",
       "    </tr>\n",
       "    <tr>\n",
       "      <th>25%</th>\n",
       "      <td>128.281915</td>\n",
       "      <td>0.888889</td>\n",
       "      <td>39.635000</td>\n",
       "      <td>0.000000</td>\n",
       "      <td>0.000000</td>\n",
       "      <td>0.000000</td>\n",
       "      <td>0.083333</td>\n",
       "      <td>0.000000</td>\n",
       "      <td>0.000000</td>\n",
       "      <td>0.000000</td>\n",
       "      <td>0.000000</td>\n",
       "      <td>1.000000</td>\n",
       "      <td>1600.000000</td>\n",
       "      <td>383.276166</td>\n",
       "      <td>169.123707</td>\n",
       "      <td>0.000000</td>\n",
       "      <td>12.000000</td>\n",
       "    </tr>\n",
       "    <tr>\n",
       "      <th>50%</th>\n",
       "      <td>873.385231</td>\n",
       "      <td>1.000000</td>\n",
       "      <td>361.280000</td>\n",
       "      <td>38.000000</td>\n",
       "      <td>89.000000</td>\n",
       "      <td>0.000000</td>\n",
       "      <td>0.500000</td>\n",
       "      <td>0.083333</td>\n",
       "      <td>0.166667</td>\n",
       "      <td>0.000000</td>\n",
       "      <td>0.000000</td>\n",
       "      <td>7.000000</td>\n",
       "      <td>3000.000000</td>\n",
       "      <td>856.901546</td>\n",
       "      <td>312.343947</td>\n",
       "      <td>0.000000</td>\n",
       "      <td>12.000000</td>\n",
       "    </tr>\n",
       "    <tr>\n",
       "      <th>75%</th>\n",
       "      <td>2054.140036</td>\n",
       "      <td>1.000000</td>\n",
       "      <td>1110.130000</td>\n",
       "      <td>577.405000</td>\n",
       "      <td>468.637500</td>\n",
       "      <td>1113.821139</td>\n",
       "      <td>0.916667</td>\n",
       "      <td>0.300000</td>\n",
       "      <td>0.750000</td>\n",
       "      <td>0.222222</td>\n",
       "      <td>4.000000</td>\n",
       "      <td>17.000000</td>\n",
       "      <td>6500.000000</td>\n",
       "      <td>1901.134317</td>\n",
       "      <td>825.485459</td>\n",
       "      <td>0.142857</td>\n",
       "      <td>12.000000</td>\n",
       "    </tr>\n",
       "    <tr>\n",
       "      <th>max</th>\n",
       "      <td>19043.138560</td>\n",
       "      <td>1.000000</td>\n",
       "      <td>49039.570000</td>\n",
       "      <td>40761.250000</td>\n",
       "      <td>22500.000000</td>\n",
       "      <td>47137.211760</td>\n",
       "      <td>1.000000</td>\n",
       "      <td>1.000000</td>\n",
       "      <td>1.000000</td>\n",
       "      <td>1.500000</td>\n",
       "      <td>123.000000</td>\n",
       "      <td>358.000000</td>\n",
       "      <td>30000.000000</td>\n",
       "      <td>50721.483360</td>\n",
       "      <td>76406.207520</td>\n",
       "      <td>1.000000</td>\n",
       "      <td>12.000000</td>\n",
       "    </tr>\n",
       "  </tbody>\n",
       "</table>\n",
       "</div>"
      ],
      "text/plain": [
       "            BALANCE  BALANCE_FREQUENCY     PURCHASES  ONEOFF_PURCHASES  \\\n",
       "count   8950.000000        8950.000000   8950.000000       8950.000000   \n",
       "mean    1564.474828           0.877271   1003.204834        592.437371   \n",
       "std     2081.531879           0.236904   2136.634782       1659.887917   \n",
       "min        0.000000           0.000000      0.000000          0.000000   \n",
       "25%      128.281915           0.888889     39.635000          0.000000   \n",
       "50%      873.385231           1.000000    361.280000         38.000000   \n",
       "75%     2054.140036           1.000000   1110.130000        577.405000   \n",
       "max    19043.138560           1.000000  49039.570000      40761.250000   \n",
       "\n",
       "       INSTALLMENTS_PURCHASES  CASH_ADVANCE  PURCHASES_FREQUENCY  \\\n",
       "count             8950.000000   8950.000000          8950.000000   \n",
       "mean               411.067645    978.871112             0.490351   \n",
       "std                904.338115   2097.163877             0.401371   \n",
       "min                  0.000000      0.000000             0.000000   \n",
       "25%                  0.000000      0.000000             0.083333   \n",
       "50%                 89.000000      0.000000             0.500000   \n",
       "75%                468.637500   1113.821139             0.916667   \n",
       "max              22500.000000  47137.211760             1.000000   \n",
       "\n",
       "       ONEOFF_PURCHASES_FREQUENCY  PURCHASES_INSTALLMENTS_FREQUENCY  \\\n",
       "count                 8950.000000                       8950.000000   \n",
       "mean                     0.202458                          0.364437   \n",
       "std                      0.298336                          0.397448   \n",
       "min                      0.000000                          0.000000   \n",
       "25%                      0.000000                          0.000000   \n",
       "50%                      0.083333                          0.166667   \n",
       "75%                      0.300000                          0.750000   \n",
       "max                      1.000000                          1.000000   \n",
       "\n",
       "       CASH_ADVANCE_FREQUENCY  CASH_ADVANCE_TRX  PURCHASES_TRX  CREDIT_LIMIT  \\\n",
       "count             8950.000000       8950.000000    8950.000000   8949.000000   \n",
       "mean                 0.135144          3.248827      14.709832   4494.449450   \n",
       "std                  0.200121          6.824647      24.857649   3638.815725   \n",
       "min                  0.000000          0.000000       0.000000     50.000000   \n",
       "25%                  0.000000          0.000000       1.000000   1600.000000   \n",
       "50%                  0.000000          0.000000       7.000000   3000.000000   \n",
       "75%                  0.222222          4.000000      17.000000   6500.000000   \n",
       "max                  1.500000        123.000000     358.000000  30000.000000   \n",
       "\n",
       "           PAYMENTS  MINIMUM_PAYMENTS  PRC_FULL_PAYMENT       TENURE  \n",
       "count   8950.000000       8637.000000       8950.000000  8950.000000  \n",
       "mean    1733.143852        864.206542          0.153715    11.517318  \n",
       "std     2895.063757       2372.446607          0.292499     1.338331  \n",
       "min        0.000000          0.019163          0.000000     6.000000  \n",
       "25%      383.276166        169.123707          0.000000    12.000000  \n",
       "50%      856.901546        312.343947          0.000000    12.000000  \n",
       "75%     1901.134317        825.485459          0.142857    12.000000  \n",
       "max    50721.483360      76406.207520          1.000000    12.000000  "
      ]
     },
     "execution_count": 4,
     "metadata": {},
     "output_type": "execute_result"
    }
   ],
   "source": [
    "cc.describe()"
   ]
  },
  {
   "cell_type": "markdown",
   "metadata": {},
   "source": [
    "### Checking for missing values in the data and treatment"
   ]
  },
  {
   "cell_type": "code",
   "execution_count": 5,
   "metadata": {},
   "outputs": [
    {
     "data": {
      "text/plain": [
       "CUST_ID                               0\n",
       "BALANCE                               0\n",
       "BALANCE_FREQUENCY                     0\n",
       "PURCHASES                             0\n",
       "ONEOFF_PURCHASES                      0\n",
       "INSTALLMENTS_PURCHASES                0\n",
       "CASH_ADVANCE                          0\n",
       "PURCHASES_FREQUENCY                   0\n",
       "ONEOFF_PURCHASES_FREQUENCY            0\n",
       "PURCHASES_INSTALLMENTS_FREQUENCY      0\n",
       "CASH_ADVANCE_FREQUENCY                0\n",
       "CASH_ADVANCE_TRX                      0\n",
       "PURCHASES_TRX                         0\n",
       "CREDIT_LIMIT                          1\n",
       "PAYMENTS                              0\n",
       "MINIMUM_PAYMENTS                    313\n",
       "PRC_FULL_PAYMENT                      0\n",
       "TENURE                                0\n",
       "dtype: int64"
      ]
     },
     "execution_count": 5,
     "metadata": {},
     "output_type": "execute_result"
    }
   ],
   "source": [
    "cc.isnull().sum()"
   ]
  },
  {
   "cell_type": "code",
   "execution_count": 6,
   "metadata": {},
   "outputs": [],
   "source": [
    "cc['CREDIT_LIMIT'].fillna(cc['CREDIT_LIMIT'].median(),inplace=True)\n",
    "cc['MINIMUM_PAYMENTS'].fillna(cc['MINIMUM_PAYMENTS'].median(),inplace=True)"
   ]
  },
  {
   "cell_type": "code",
   "execution_count": 7,
   "metadata": {},
   "outputs": [
    {
     "data": {
      "text/plain": [
       "CUST_ID                             0\n",
       "BALANCE                             0\n",
       "BALANCE_FREQUENCY                   0\n",
       "PURCHASES                           0\n",
       "ONEOFF_PURCHASES                    0\n",
       "INSTALLMENTS_PURCHASES              0\n",
       "CASH_ADVANCE                        0\n",
       "PURCHASES_FREQUENCY                 0\n",
       "ONEOFF_PURCHASES_FREQUENCY          0\n",
       "PURCHASES_INSTALLMENTS_FREQUENCY    0\n",
       "CASH_ADVANCE_FREQUENCY              0\n",
       "CASH_ADVANCE_TRX                    0\n",
       "PURCHASES_TRX                       0\n",
       "CREDIT_LIMIT                        0\n",
       "PAYMENTS                            0\n",
       "MINIMUM_PAYMENTS                    0\n",
       "PRC_FULL_PAYMENT                    0\n",
       "TENURE                              0\n",
       "dtype: int64"
      ]
     },
     "execution_count": 7,
     "metadata": {},
     "output_type": "execute_result"
    }
   ],
   "source": [
    "cc.isnull().sum()"
   ]
  },
  {
   "cell_type": "markdown",
   "metadata": {},
   "source": [
    "### Deriving new KPI's"
   ]
  },
  {
   "cell_type": "markdown",
   "metadata": {},
   "source": [
    "###  Monthly average purchase and cash advance amount"
   ]
  },
  {
   "cell_type": "code",
   "execution_count": 8,
   "metadata": {},
   "outputs": [],
   "source": [
    "cc['Monthly_avg_purchase']=cc['PURCHASES']/cc['TENURE']\n",
    "cc['Monthly_cash_advance']=cc['CASH_ADVANCE']/cc['TENURE']"
   ]
  },
  {
   "cell_type": "code",
   "execution_count": 9,
   "metadata": {},
   "outputs": [
    {
     "data": {
      "text/plain": [
       "0      7.950000\n",
       "1      0.000000\n",
       "2     64.430833\n",
       "3    124.916667\n",
       "4      1.333333\n",
       "Name: Monthly_avg_purchase, dtype: float64"
      ]
     },
     "execution_count": 9,
     "metadata": {},
     "output_type": "execute_result"
    }
   ],
   "source": [
    "cc.Monthly_avg_purchase.head()"
   ]
  },
  {
   "cell_type": "markdown",
   "metadata": {},
   "source": [
    "### Purchase by type"
   ]
  },
  {
   "cell_type": "markdown",
   "metadata": {},
   "source": [
    "### there are four types of purchases are made according to data\n",
    "* People who only do one-off purchase\n",
    "* people who do only purchase by installments\n",
    "* people who do both\n",
    "* people who do nothing"
   ]
  },
  {
   "cell_type": "code",
   "execution_count": 10,
   "metadata": {},
   "outputs": [],
   "source": [
    "def purchase(cc):   \n",
    "    if (cc['ONEOFF_PURCHASES']==0) & (cc['INSTALLMENTS_PURCHASES']==0):\n",
    "        return 'none'\n",
    "    if (cc['ONEOFF_PURCHASES']>0) & (cc['INSTALLMENTS_PURCHASES']>0):\n",
    "         return 'both_oneoff_installment'\n",
    "    if (cc['ONEOFF_PURCHASES']>0) & (cc['INSTALLMENTS_PURCHASES']==0):\n",
    "        return 'one_off'\n",
    "    if (cc['ONEOFF_PURCHASES']==0) & (cc['INSTALLMENTS_PURCHASES']>0):\n",
    "        return 'installment'"
   ]
  },
  {
   "cell_type": "code",
   "execution_count": 11,
   "metadata": {},
   "outputs": [],
   "source": [
    "cc['PURCHASE_TYPE']=cc.apply(purchase,axis=1)"
   ]
  },
  {
   "cell_type": "code",
   "execution_count": 12,
   "metadata": {},
   "outputs": [
    {
     "data": {
      "text/html": [
       "<div>\n",
       "<style scoped>\n",
       "    .dataframe tbody tr th:only-of-type {\n",
       "        vertical-align: middle;\n",
       "    }\n",
       "\n",
       "    .dataframe tbody tr th {\n",
       "        vertical-align: top;\n",
       "    }\n",
       "\n",
       "    .dataframe thead th {\n",
       "        text-align: right;\n",
       "    }\n",
       "</style>\n",
       "<table border=\"1\" class=\"dataframe\">\n",
       "  <thead>\n",
       "    <tr style=\"text-align: right;\">\n",
       "      <th></th>\n",
       "      <th>CUST_ID</th>\n",
       "      <th>BALANCE</th>\n",
       "      <th>BALANCE_FREQUENCY</th>\n",
       "      <th>PURCHASES</th>\n",
       "      <th>ONEOFF_PURCHASES</th>\n",
       "      <th>INSTALLMENTS_PURCHASES</th>\n",
       "      <th>CASH_ADVANCE</th>\n",
       "      <th>PURCHASES_FREQUENCY</th>\n",
       "      <th>ONEOFF_PURCHASES_FREQUENCY</th>\n",
       "      <th>PURCHASES_INSTALLMENTS_FREQUENCY</th>\n",
       "      <th>...</th>\n",
       "      <th>CASH_ADVANCE_TRX</th>\n",
       "      <th>PURCHASES_TRX</th>\n",
       "      <th>CREDIT_LIMIT</th>\n",
       "      <th>PAYMENTS</th>\n",
       "      <th>MINIMUM_PAYMENTS</th>\n",
       "      <th>PRC_FULL_PAYMENT</th>\n",
       "      <th>TENURE</th>\n",
       "      <th>Monthly_avg_purchase</th>\n",
       "      <th>Monthly_cash_advance</th>\n",
       "      <th>PURCHASE_TYPE</th>\n",
       "    </tr>\n",
       "  </thead>\n",
       "  <tbody>\n",
       "    <tr>\n",
       "      <th>0</th>\n",
       "      <td>C10001</td>\n",
       "      <td>40.900749</td>\n",
       "      <td>0.818182</td>\n",
       "      <td>95.40</td>\n",
       "      <td>0.00</td>\n",
       "      <td>95.4</td>\n",
       "      <td>0.000000</td>\n",
       "      <td>0.166667</td>\n",
       "      <td>0.000000</td>\n",
       "      <td>0.083333</td>\n",
       "      <td>...</td>\n",
       "      <td>0</td>\n",
       "      <td>2</td>\n",
       "      <td>1000.0</td>\n",
       "      <td>201.802084</td>\n",
       "      <td>139.509787</td>\n",
       "      <td>0.000000</td>\n",
       "      <td>12</td>\n",
       "      <td>7.950000</td>\n",
       "      <td>0.000000</td>\n",
       "      <td>installment</td>\n",
       "    </tr>\n",
       "    <tr>\n",
       "      <th>1</th>\n",
       "      <td>C10002</td>\n",
       "      <td>3202.467416</td>\n",
       "      <td>0.909091</td>\n",
       "      <td>0.00</td>\n",
       "      <td>0.00</td>\n",
       "      <td>0.0</td>\n",
       "      <td>6442.945483</td>\n",
       "      <td>0.000000</td>\n",
       "      <td>0.000000</td>\n",
       "      <td>0.000000</td>\n",
       "      <td>...</td>\n",
       "      <td>4</td>\n",
       "      <td>0</td>\n",
       "      <td>7000.0</td>\n",
       "      <td>4103.032597</td>\n",
       "      <td>1072.340217</td>\n",
       "      <td>0.222222</td>\n",
       "      <td>12</td>\n",
       "      <td>0.000000</td>\n",
       "      <td>536.912124</td>\n",
       "      <td>none</td>\n",
       "    </tr>\n",
       "    <tr>\n",
       "      <th>2</th>\n",
       "      <td>C10003</td>\n",
       "      <td>2495.148862</td>\n",
       "      <td>1.000000</td>\n",
       "      <td>773.17</td>\n",
       "      <td>773.17</td>\n",
       "      <td>0.0</td>\n",
       "      <td>0.000000</td>\n",
       "      <td>1.000000</td>\n",
       "      <td>1.000000</td>\n",
       "      <td>0.000000</td>\n",
       "      <td>...</td>\n",
       "      <td>0</td>\n",
       "      <td>12</td>\n",
       "      <td>7500.0</td>\n",
       "      <td>622.066742</td>\n",
       "      <td>627.284787</td>\n",
       "      <td>0.000000</td>\n",
       "      <td>12</td>\n",
       "      <td>64.430833</td>\n",
       "      <td>0.000000</td>\n",
       "      <td>one_off</td>\n",
       "    </tr>\n",
       "    <tr>\n",
       "      <th>3</th>\n",
       "      <td>C10004</td>\n",
       "      <td>1666.670542</td>\n",
       "      <td>0.636364</td>\n",
       "      <td>1499.00</td>\n",
       "      <td>1499.00</td>\n",
       "      <td>0.0</td>\n",
       "      <td>205.788017</td>\n",
       "      <td>0.083333</td>\n",
       "      <td>0.083333</td>\n",
       "      <td>0.000000</td>\n",
       "      <td>...</td>\n",
       "      <td>1</td>\n",
       "      <td>1</td>\n",
       "      <td>7500.0</td>\n",
       "      <td>0.000000</td>\n",
       "      <td>312.343947</td>\n",
       "      <td>0.000000</td>\n",
       "      <td>12</td>\n",
       "      <td>124.916667</td>\n",
       "      <td>17.149001</td>\n",
       "      <td>one_off</td>\n",
       "    </tr>\n",
       "    <tr>\n",
       "      <th>4</th>\n",
       "      <td>C10005</td>\n",
       "      <td>817.714335</td>\n",
       "      <td>1.000000</td>\n",
       "      <td>16.00</td>\n",
       "      <td>16.00</td>\n",
       "      <td>0.0</td>\n",
       "      <td>0.000000</td>\n",
       "      <td>0.083333</td>\n",
       "      <td>0.083333</td>\n",
       "      <td>0.000000</td>\n",
       "      <td>...</td>\n",
       "      <td>0</td>\n",
       "      <td>1</td>\n",
       "      <td>1200.0</td>\n",
       "      <td>678.334763</td>\n",
       "      <td>244.791237</td>\n",
       "      <td>0.000000</td>\n",
       "      <td>12</td>\n",
       "      <td>1.333333</td>\n",
       "      <td>0.000000</td>\n",
       "      <td>one_off</td>\n",
       "    </tr>\n",
       "  </tbody>\n",
       "</table>\n",
       "<p>5 rows × 21 columns</p>\n",
       "</div>"
      ],
      "text/plain": [
       "  CUST_ID      BALANCE  BALANCE_FREQUENCY  PURCHASES  ONEOFF_PURCHASES  \\\n",
       "0  C10001    40.900749           0.818182      95.40              0.00   \n",
       "1  C10002  3202.467416           0.909091       0.00              0.00   \n",
       "2  C10003  2495.148862           1.000000     773.17            773.17   \n",
       "3  C10004  1666.670542           0.636364    1499.00           1499.00   \n",
       "4  C10005   817.714335           1.000000      16.00             16.00   \n",
       "\n",
       "   INSTALLMENTS_PURCHASES  CASH_ADVANCE  PURCHASES_FREQUENCY  \\\n",
       "0                    95.4      0.000000             0.166667   \n",
       "1                     0.0   6442.945483             0.000000   \n",
       "2                     0.0      0.000000             1.000000   \n",
       "3                     0.0    205.788017             0.083333   \n",
       "4                     0.0      0.000000             0.083333   \n",
       "\n",
       "   ONEOFF_PURCHASES_FREQUENCY  PURCHASES_INSTALLMENTS_FREQUENCY  \\\n",
       "0                    0.000000                          0.083333   \n",
       "1                    0.000000                          0.000000   \n",
       "2                    1.000000                          0.000000   \n",
       "3                    0.083333                          0.000000   \n",
       "4                    0.083333                          0.000000   \n",
       "\n",
       "       ...        CASH_ADVANCE_TRX  PURCHASES_TRX  CREDIT_LIMIT     PAYMENTS  \\\n",
       "0      ...                       0              2        1000.0   201.802084   \n",
       "1      ...                       4              0        7000.0  4103.032597   \n",
       "2      ...                       0             12        7500.0   622.066742   \n",
       "3      ...                       1              1        7500.0     0.000000   \n",
       "4      ...                       0              1        1200.0   678.334763   \n",
       "\n",
       "   MINIMUM_PAYMENTS  PRC_FULL_PAYMENT  TENURE  Monthly_avg_purchase  \\\n",
       "0        139.509787          0.000000      12              7.950000   \n",
       "1       1072.340217          0.222222      12              0.000000   \n",
       "2        627.284787          0.000000      12             64.430833   \n",
       "3        312.343947          0.000000      12            124.916667   \n",
       "4        244.791237          0.000000      12              1.333333   \n",
       "\n",
       "   Monthly_cash_advance  PURCHASE_TYPE  \n",
       "0              0.000000    installment  \n",
       "1            536.912124           none  \n",
       "2              0.000000        one_off  \n",
       "3             17.149001        one_off  \n",
       "4              0.000000        one_off  \n",
       "\n",
       "[5 rows x 21 columns]"
      ]
     },
     "execution_count": 12,
     "metadata": {},
     "output_type": "execute_result"
    }
   ],
   "source": [
    "cc.head()"
   ]
  },
  {
   "cell_type": "code",
   "execution_count": 13,
   "metadata": {},
   "outputs": [
    {
     "data": {
      "text/plain": [
       "both_oneoff_installment    2774\n",
       "installment                2260\n",
       "none                       2042\n",
       "one_off                    1874\n",
       "Name: PURCHASE_TYPE, dtype: int64"
      ]
     },
     "execution_count": 13,
     "metadata": {},
     "output_type": "execute_result"
    }
   ],
   "source": [
    "cc.PURCHASE_TYPE.value_counts()"
   ]
  },
  {
   "cell_type": "markdown",
   "metadata": {},
   "source": [
    "### Limit usage(balance to credit limit ratio)"
   ]
  },
  {
   "cell_type": "code",
   "execution_count": 14,
   "metadata": {},
   "outputs": [],
   "source": [
    "cc['limit_usage']=cc.apply(lambda x: x['BALANCE']/x['CREDIT_LIMIT'], axis=1)"
   ]
  },
  {
   "cell_type": "code",
   "execution_count": 15,
   "metadata": {},
   "outputs": [
    {
     "data": {
      "text/plain": [
       "0    0.040901\n",
       "1    0.457495\n",
       "2    0.332687\n",
       "3    0.222223\n",
       "4    0.681429\n",
       "Name: limit_usage, dtype: float64"
      ]
     },
     "execution_count": 15,
     "metadata": {},
     "output_type": "execute_result"
    }
   ],
   "source": [
    "cc.limit_usage.head()"
   ]
  },
  {
   "cell_type": "markdown",
   "metadata": {},
   "source": [
    "### Payments to minimum payment ratio"
   ]
  },
  {
   "cell_type": "code",
   "execution_count": 16,
   "metadata": {},
   "outputs": [],
   "source": [
    "cc['payment_minpay']=cc.apply(lambda x:x['PAYMENTS']/x['MINIMUM_PAYMENTS'],axis=1)"
   ]
  },
  {
   "cell_type": "code",
   "execution_count": 17,
   "metadata": {},
   "outputs": [
    {
     "data": {
      "text/plain": [
       "0    1.446508\n",
       "1    3.826241\n",
       "2    0.991682\n",
       "3    0.000000\n",
       "4    2.771075\n",
       "Name: payment_minpay, dtype: float64"
      ]
     },
     "execution_count": 17,
     "metadata": {},
     "output_type": "execute_result"
    }
   ],
   "source": [
    "cc.payment_minpay.head()"
   ]
  },
  {
   "cell_type": "code",
   "execution_count": 18,
   "metadata": {},
   "outputs": [
    {
     "name": "stdout",
     "output_type": "stream",
     "text": [
      "<class 'pandas.core.frame.DataFrame'>\n",
      "RangeIndex: 8950 entries, 0 to 8949\n",
      "Data columns (total 23 columns):\n",
      "CUST_ID                             8950 non-null object\n",
      "BALANCE                             8950 non-null float64\n",
      "BALANCE_FREQUENCY                   8950 non-null float64\n",
      "PURCHASES                           8950 non-null float64\n",
      "ONEOFF_PURCHASES                    8950 non-null float64\n",
      "INSTALLMENTS_PURCHASES              8950 non-null float64\n",
      "CASH_ADVANCE                        8950 non-null float64\n",
      "PURCHASES_FREQUENCY                 8950 non-null float64\n",
      "ONEOFF_PURCHASES_FREQUENCY          8950 non-null float64\n",
      "PURCHASES_INSTALLMENTS_FREQUENCY    8950 non-null float64\n",
      "CASH_ADVANCE_FREQUENCY              8950 non-null float64\n",
      "CASH_ADVANCE_TRX                    8950 non-null int64\n",
      "PURCHASES_TRX                       8950 non-null int64\n",
      "CREDIT_LIMIT                        8950 non-null float64\n",
      "PAYMENTS                            8950 non-null float64\n",
      "MINIMUM_PAYMENTS                    8950 non-null float64\n",
      "PRC_FULL_PAYMENT                    8950 non-null float64\n",
      "TENURE                              8950 non-null int64\n",
      "Monthly_avg_purchase                8950 non-null float64\n",
      "Monthly_cash_advance                8950 non-null float64\n",
      "PURCHASE_TYPE                       8950 non-null object\n",
      "limit_usage                         8950 non-null float64\n",
      "payment_minpay                      8950 non-null float64\n",
      "dtypes: float64(18), int64(3), object(2)\n",
      "memory usage: 1.5+ MB\n"
     ]
    }
   ],
   "source": [
    "cc.info()"
   ]
  },
  {
   "cell_type": "code",
   "execution_count": 19,
   "metadata": {},
   "outputs": [
    {
     "data": {
      "text/html": [
       "<div>\n",
       "<style scoped>\n",
       "    .dataframe tbody tr th:only-of-type {\n",
       "        vertical-align: middle;\n",
       "    }\n",
       "\n",
       "    .dataframe tbody tr th {\n",
       "        vertical-align: top;\n",
       "    }\n",
       "\n",
       "    .dataframe thead th {\n",
       "        text-align: right;\n",
       "    }\n",
       "</style>\n",
       "<table border=\"1\" class=\"dataframe\">\n",
       "  <thead>\n",
       "    <tr style=\"text-align: right;\">\n",
       "      <th></th>\n",
       "      <th>CUST_ID</th>\n",
       "      <th>BALANCE</th>\n",
       "      <th>BALANCE_FREQUENCY</th>\n",
       "      <th>PURCHASES</th>\n",
       "      <th>ONEOFF_PURCHASES</th>\n",
       "      <th>INSTALLMENTS_PURCHASES</th>\n",
       "      <th>CASH_ADVANCE</th>\n",
       "      <th>PURCHASES_FREQUENCY</th>\n",
       "      <th>ONEOFF_PURCHASES_FREQUENCY</th>\n",
       "      <th>PURCHASES_INSTALLMENTS_FREQUENCY</th>\n",
       "      <th>...</th>\n",
       "      <th>CREDIT_LIMIT</th>\n",
       "      <th>PAYMENTS</th>\n",
       "      <th>MINIMUM_PAYMENTS</th>\n",
       "      <th>PRC_FULL_PAYMENT</th>\n",
       "      <th>TENURE</th>\n",
       "      <th>Monthly_avg_purchase</th>\n",
       "      <th>Monthly_cash_advance</th>\n",
       "      <th>PURCHASE_TYPE</th>\n",
       "      <th>limit_usage</th>\n",
       "      <th>payment_minpay</th>\n",
       "    </tr>\n",
       "  </thead>\n",
       "  <tbody>\n",
       "    <tr>\n",
       "      <th>0</th>\n",
       "      <td>C10001</td>\n",
       "      <td>40.900749</td>\n",
       "      <td>0.818182</td>\n",
       "      <td>95.40</td>\n",
       "      <td>0.00</td>\n",
       "      <td>95.4</td>\n",
       "      <td>0.000000</td>\n",
       "      <td>0.166667</td>\n",
       "      <td>0.000000</td>\n",
       "      <td>0.083333</td>\n",
       "      <td>...</td>\n",
       "      <td>1000.0</td>\n",
       "      <td>201.802084</td>\n",
       "      <td>139.509787</td>\n",
       "      <td>0.000000</td>\n",
       "      <td>12</td>\n",
       "      <td>7.950000</td>\n",
       "      <td>0.000000</td>\n",
       "      <td>installment</td>\n",
       "      <td>0.040901</td>\n",
       "      <td>1.446508</td>\n",
       "    </tr>\n",
       "    <tr>\n",
       "      <th>1</th>\n",
       "      <td>C10002</td>\n",
       "      <td>3202.467416</td>\n",
       "      <td>0.909091</td>\n",
       "      <td>0.00</td>\n",
       "      <td>0.00</td>\n",
       "      <td>0.0</td>\n",
       "      <td>6442.945483</td>\n",
       "      <td>0.000000</td>\n",
       "      <td>0.000000</td>\n",
       "      <td>0.000000</td>\n",
       "      <td>...</td>\n",
       "      <td>7000.0</td>\n",
       "      <td>4103.032597</td>\n",
       "      <td>1072.340217</td>\n",
       "      <td>0.222222</td>\n",
       "      <td>12</td>\n",
       "      <td>0.000000</td>\n",
       "      <td>536.912124</td>\n",
       "      <td>none</td>\n",
       "      <td>0.457495</td>\n",
       "      <td>3.826241</td>\n",
       "    </tr>\n",
       "    <tr>\n",
       "      <th>2</th>\n",
       "      <td>C10003</td>\n",
       "      <td>2495.148862</td>\n",
       "      <td>1.000000</td>\n",
       "      <td>773.17</td>\n",
       "      <td>773.17</td>\n",
       "      <td>0.0</td>\n",
       "      <td>0.000000</td>\n",
       "      <td>1.000000</td>\n",
       "      <td>1.000000</td>\n",
       "      <td>0.000000</td>\n",
       "      <td>...</td>\n",
       "      <td>7500.0</td>\n",
       "      <td>622.066742</td>\n",
       "      <td>627.284787</td>\n",
       "      <td>0.000000</td>\n",
       "      <td>12</td>\n",
       "      <td>64.430833</td>\n",
       "      <td>0.000000</td>\n",
       "      <td>one_off</td>\n",
       "      <td>0.332687</td>\n",
       "      <td>0.991682</td>\n",
       "    </tr>\n",
       "    <tr>\n",
       "      <th>3</th>\n",
       "      <td>C10004</td>\n",
       "      <td>1666.670542</td>\n",
       "      <td>0.636364</td>\n",
       "      <td>1499.00</td>\n",
       "      <td>1499.00</td>\n",
       "      <td>0.0</td>\n",
       "      <td>205.788017</td>\n",
       "      <td>0.083333</td>\n",
       "      <td>0.083333</td>\n",
       "      <td>0.000000</td>\n",
       "      <td>...</td>\n",
       "      <td>7500.0</td>\n",
       "      <td>0.000000</td>\n",
       "      <td>312.343947</td>\n",
       "      <td>0.000000</td>\n",
       "      <td>12</td>\n",
       "      <td>124.916667</td>\n",
       "      <td>17.149001</td>\n",
       "      <td>one_off</td>\n",
       "      <td>0.222223</td>\n",
       "      <td>0.000000</td>\n",
       "    </tr>\n",
       "    <tr>\n",
       "      <th>4</th>\n",
       "      <td>C10005</td>\n",
       "      <td>817.714335</td>\n",
       "      <td>1.000000</td>\n",
       "      <td>16.00</td>\n",
       "      <td>16.00</td>\n",
       "      <td>0.0</td>\n",
       "      <td>0.000000</td>\n",
       "      <td>0.083333</td>\n",
       "      <td>0.083333</td>\n",
       "      <td>0.000000</td>\n",
       "      <td>...</td>\n",
       "      <td>1200.0</td>\n",
       "      <td>678.334763</td>\n",
       "      <td>244.791237</td>\n",
       "      <td>0.000000</td>\n",
       "      <td>12</td>\n",
       "      <td>1.333333</td>\n",
       "      <td>0.000000</td>\n",
       "      <td>one_off</td>\n",
       "      <td>0.681429</td>\n",
       "      <td>2.771075</td>\n",
       "    </tr>\n",
       "  </tbody>\n",
       "</table>\n",
       "<p>5 rows × 23 columns</p>\n",
       "</div>"
      ],
      "text/plain": [
       "  CUST_ID      BALANCE  BALANCE_FREQUENCY  PURCHASES  ONEOFF_PURCHASES  \\\n",
       "0  C10001    40.900749           0.818182      95.40              0.00   \n",
       "1  C10002  3202.467416           0.909091       0.00              0.00   \n",
       "2  C10003  2495.148862           1.000000     773.17            773.17   \n",
       "3  C10004  1666.670542           0.636364    1499.00           1499.00   \n",
       "4  C10005   817.714335           1.000000      16.00             16.00   \n",
       "\n",
       "   INSTALLMENTS_PURCHASES  CASH_ADVANCE  PURCHASES_FREQUENCY  \\\n",
       "0                    95.4      0.000000             0.166667   \n",
       "1                     0.0   6442.945483             0.000000   \n",
       "2                     0.0      0.000000             1.000000   \n",
       "3                     0.0    205.788017             0.083333   \n",
       "4                     0.0      0.000000             0.083333   \n",
       "\n",
       "   ONEOFF_PURCHASES_FREQUENCY  PURCHASES_INSTALLMENTS_FREQUENCY  \\\n",
       "0                    0.000000                          0.083333   \n",
       "1                    0.000000                          0.000000   \n",
       "2                    1.000000                          0.000000   \n",
       "3                    0.083333                          0.000000   \n",
       "4                    0.083333                          0.000000   \n",
       "\n",
       "        ...        CREDIT_LIMIT     PAYMENTS  MINIMUM_PAYMENTS  \\\n",
       "0       ...              1000.0   201.802084        139.509787   \n",
       "1       ...              7000.0  4103.032597       1072.340217   \n",
       "2       ...              7500.0   622.066742        627.284787   \n",
       "3       ...              7500.0     0.000000        312.343947   \n",
       "4       ...              1200.0   678.334763        244.791237   \n",
       "\n",
       "   PRC_FULL_PAYMENT  TENURE  Monthly_avg_purchase  Monthly_cash_advance  \\\n",
       "0          0.000000      12              7.950000              0.000000   \n",
       "1          0.222222      12              0.000000            536.912124   \n",
       "2          0.000000      12             64.430833              0.000000   \n",
       "3          0.000000      12            124.916667             17.149001   \n",
       "4          0.000000      12              1.333333              0.000000   \n",
       "\n",
       "   PURCHASE_TYPE  limit_usage  payment_minpay  \n",
       "0    installment     0.040901        1.446508  \n",
       "1           none     0.457495        3.826241  \n",
       "2        one_off     0.332687        0.991682  \n",
       "3        one_off     0.222223        0.000000  \n",
       "4        one_off     0.681429        2.771075  \n",
       "\n",
       "[5 rows x 23 columns]"
      ]
     },
     "execution_count": 19,
     "metadata": {},
     "output_type": "execute_result"
    }
   ],
   "source": [
    "cc.head()"
   ]
  },
  {
   "cell_type": "markdown",
   "metadata": {},
   "source": [
    "### Taking the log transformation to remove the outlier effect"
   ]
  },
  {
   "cell_type": "code",
   "execution_count": 21,
   "metadata": {},
   "outputs": [],
   "source": [
    "cc_log=cc.drop(['CUST_ID','PURCHASE_TYPE'],axis=1).apply(lambda x: np.log(x+1))"
   ]
  },
  {
   "cell_type": "code",
   "execution_count": 22,
   "metadata": {},
   "outputs": [
    {
     "data": {
      "text/html": [
       "<div>\n",
       "<style scoped>\n",
       "    .dataframe tbody tr th:only-of-type {\n",
       "        vertical-align: middle;\n",
       "    }\n",
       "\n",
       "    .dataframe tbody tr th {\n",
       "        vertical-align: top;\n",
       "    }\n",
       "\n",
       "    .dataframe thead th {\n",
       "        text-align: right;\n",
       "    }\n",
       "</style>\n",
       "<table border=\"1\" class=\"dataframe\">\n",
       "  <thead>\n",
       "    <tr style=\"text-align: right;\">\n",
       "      <th></th>\n",
       "      <th>BALANCE</th>\n",
       "      <th>BALANCE_FREQUENCY</th>\n",
       "      <th>PURCHASES</th>\n",
       "      <th>ONEOFF_PURCHASES</th>\n",
       "      <th>INSTALLMENTS_PURCHASES</th>\n",
       "      <th>CASH_ADVANCE</th>\n",
       "      <th>PURCHASES_FREQUENCY</th>\n",
       "      <th>ONEOFF_PURCHASES_FREQUENCY</th>\n",
       "      <th>PURCHASES_INSTALLMENTS_FREQUENCY</th>\n",
       "      <th>CASH_ADVANCE_FREQUENCY</th>\n",
       "      <th>...</th>\n",
       "      <th>PURCHASES_TRX</th>\n",
       "      <th>CREDIT_LIMIT</th>\n",
       "      <th>PAYMENTS</th>\n",
       "      <th>MINIMUM_PAYMENTS</th>\n",
       "      <th>PRC_FULL_PAYMENT</th>\n",
       "      <th>TENURE</th>\n",
       "      <th>Monthly_avg_purchase</th>\n",
       "      <th>Monthly_cash_advance</th>\n",
       "      <th>limit_usage</th>\n",
       "      <th>payment_minpay</th>\n",
       "    </tr>\n",
       "  </thead>\n",
       "  <tbody>\n",
       "    <tr>\n",
       "      <th>0</th>\n",
       "      <td>3.735304</td>\n",
       "      <td>0.597837</td>\n",
       "      <td>4.568506</td>\n",
       "      <td>0.000000</td>\n",
       "      <td>4.568506</td>\n",
       "      <td>0.000000</td>\n",
       "      <td>0.154151</td>\n",
       "      <td>0.000000</td>\n",
       "      <td>0.080042</td>\n",
       "      <td>0.000000</td>\n",
       "      <td>...</td>\n",
       "      <td>1.098612</td>\n",
       "      <td>6.908755</td>\n",
       "      <td>5.312231</td>\n",
       "      <td>4.945277</td>\n",
       "      <td>0.000000</td>\n",
       "      <td>2.564949</td>\n",
       "      <td>2.191654</td>\n",
       "      <td>0.000000</td>\n",
       "      <td>0.040086</td>\n",
       "      <td>0.894662</td>\n",
       "    </tr>\n",
       "    <tr>\n",
       "      <th>1</th>\n",
       "      <td>8.071989</td>\n",
       "      <td>0.646627</td>\n",
       "      <td>0.000000</td>\n",
       "      <td>0.000000</td>\n",
       "      <td>0.000000</td>\n",
       "      <td>8.770896</td>\n",
       "      <td>0.000000</td>\n",
       "      <td>0.000000</td>\n",
       "      <td>0.000000</td>\n",
       "      <td>0.223144</td>\n",
       "      <td>...</td>\n",
       "      <td>0.000000</td>\n",
       "      <td>8.853808</td>\n",
       "      <td>8.319725</td>\n",
       "      <td>6.978531</td>\n",
       "      <td>0.200671</td>\n",
       "      <td>2.564949</td>\n",
       "      <td>0.000000</td>\n",
       "      <td>6.287695</td>\n",
       "      <td>0.376719</td>\n",
       "      <td>1.574068</td>\n",
       "    </tr>\n",
       "    <tr>\n",
       "      <th>2</th>\n",
       "      <td>7.822504</td>\n",
       "      <td>0.693147</td>\n",
       "      <td>6.651791</td>\n",
       "      <td>6.651791</td>\n",
       "      <td>0.000000</td>\n",
       "      <td>0.000000</td>\n",
       "      <td>0.693147</td>\n",
       "      <td>0.693147</td>\n",
       "      <td>0.000000</td>\n",
       "      <td>0.000000</td>\n",
       "      <td>...</td>\n",
       "      <td>2.564949</td>\n",
       "      <td>8.922792</td>\n",
       "      <td>6.434654</td>\n",
       "      <td>6.442994</td>\n",
       "      <td>0.000000</td>\n",
       "      <td>2.564949</td>\n",
       "      <td>4.180994</td>\n",
       "      <td>0.000000</td>\n",
       "      <td>0.287197</td>\n",
       "      <td>0.688979</td>\n",
       "    </tr>\n",
       "    <tr>\n",
       "      <th>3</th>\n",
       "      <td>7.419183</td>\n",
       "      <td>0.492477</td>\n",
       "      <td>7.313220</td>\n",
       "      <td>7.313220</td>\n",
       "      <td>0.000000</td>\n",
       "      <td>5.331694</td>\n",
       "      <td>0.080042</td>\n",
       "      <td>0.080042</td>\n",
       "      <td>0.000000</td>\n",
       "      <td>0.080042</td>\n",
       "      <td>...</td>\n",
       "      <td>0.693147</td>\n",
       "      <td>8.922792</td>\n",
       "      <td>0.000000</td>\n",
       "      <td>5.747301</td>\n",
       "      <td>0.000000</td>\n",
       "      <td>2.564949</td>\n",
       "      <td>4.835620</td>\n",
       "      <td>2.898616</td>\n",
       "      <td>0.200671</td>\n",
       "      <td>0.000000</td>\n",
       "    </tr>\n",
       "    <tr>\n",
       "      <th>4</th>\n",
       "      <td>6.707735</td>\n",
       "      <td>0.693147</td>\n",
       "      <td>2.833213</td>\n",
       "      <td>2.833213</td>\n",
       "      <td>0.000000</td>\n",
       "      <td>0.000000</td>\n",
       "      <td>0.080042</td>\n",
       "      <td>0.080042</td>\n",
       "      <td>0.000000</td>\n",
       "      <td>0.000000</td>\n",
       "      <td>...</td>\n",
       "      <td>0.693147</td>\n",
       "      <td>7.090910</td>\n",
       "      <td>6.521114</td>\n",
       "      <td>5.504483</td>\n",
       "      <td>0.000000</td>\n",
       "      <td>2.564949</td>\n",
       "      <td>0.847298</td>\n",
       "      <td>0.000000</td>\n",
       "      <td>0.519644</td>\n",
       "      <td>1.327360</td>\n",
       "    </tr>\n",
       "  </tbody>\n",
       "</table>\n",
       "<p>5 rows × 21 columns</p>\n",
       "</div>"
      ],
      "text/plain": [
       "    BALANCE  BALANCE_FREQUENCY  PURCHASES  ONEOFF_PURCHASES  \\\n",
       "0  3.735304           0.597837   4.568506          0.000000   \n",
       "1  8.071989           0.646627   0.000000          0.000000   \n",
       "2  7.822504           0.693147   6.651791          6.651791   \n",
       "3  7.419183           0.492477   7.313220          7.313220   \n",
       "4  6.707735           0.693147   2.833213          2.833213   \n",
       "\n",
       "   INSTALLMENTS_PURCHASES  CASH_ADVANCE  PURCHASES_FREQUENCY  \\\n",
       "0                4.568506      0.000000             0.154151   \n",
       "1                0.000000      8.770896             0.000000   \n",
       "2                0.000000      0.000000             0.693147   \n",
       "3                0.000000      5.331694             0.080042   \n",
       "4                0.000000      0.000000             0.080042   \n",
       "\n",
       "   ONEOFF_PURCHASES_FREQUENCY  PURCHASES_INSTALLMENTS_FREQUENCY  \\\n",
       "0                    0.000000                          0.080042   \n",
       "1                    0.000000                          0.000000   \n",
       "2                    0.693147                          0.000000   \n",
       "3                    0.080042                          0.000000   \n",
       "4                    0.080042                          0.000000   \n",
       "\n",
       "   CASH_ADVANCE_FREQUENCY       ...        PURCHASES_TRX  CREDIT_LIMIT  \\\n",
       "0                0.000000       ...             1.098612      6.908755   \n",
       "1                0.223144       ...             0.000000      8.853808   \n",
       "2                0.000000       ...             2.564949      8.922792   \n",
       "3                0.080042       ...             0.693147      8.922792   \n",
       "4                0.000000       ...             0.693147      7.090910   \n",
       "\n",
       "   PAYMENTS  MINIMUM_PAYMENTS  PRC_FULL_PAYMENT    TENURE  \\\n",
       "0  5.312231          4.945277          0.000000  2.564949   \n",
       "1  8.319725          6.978531          0.200671  2.564949   \n",
       "2  6.434654          6.442994          0.000000  2.564949   \n",
       "3  0.000000          5.747301          0.000000  2.564949   \n",
       "4  6.521114          5.504483          0.000000  2.564949   \n",
       "\n",
       "   Monthly_avg_purchase  Monthly_cash_advance  limit_usage  payment_minpay  \n",
       "0              2.191654              0.000000     0.040086        0.894662  \n",
       "1              0.000000              6.287695     0.376719        1.574068  \n",
       "2              4.180994              0.000000     0.287197        0.688979  \n",
       "3              4.835620              2.898616     0.200671        0.000000  \n",
       "4              0.847298              0.000000     0.519644        1.327360  \n",
       "\n",
       "[5 rows x 21 columns]"
      ]
     },
     "execution_count": 22,
     "metadata": {},
     "output_type": "execute_result"
    }
   ],
   "source": [
    "cc_log.head()"
   ]
  },
  {
   "cell_type": "code",
   "execution_count": 23,
   "metadata": {},
   "outputs": [],
   "source": [
    "col=['BALANCE','PURCHASES','CASH_ADVANCE','TENURE','PAYMENTS','MINIMUM_PAYMENTS','PRC_FULL_PAYMENT','CREDIT_LIMIT']\n",
    "cc_pre=cc_log[[x for x in cc_log.columns if x not in col ]]"
   ]
  },
  {
   "cell_type": "code",
   "execution_count": 24,
   "metadata": {},
   "outputs": [
    {
     "data": {
      "text/html": [
       "<div>\n",
       "<style scoped>\n",
       "    .dataframe tbody tr th:only-of-type {\n",
       "        vertical-align: middle;\n",
       "    }\n",
       "\n",
       "    .dataframe tbody tr th {\n",
       "        vertical-align: top;\n",
       "    }\n",
       "\n",
       "    .dataframe thead th {\n",
       "        text-align: right;\n",
       "    }\n",
       "</style>\n",
       "<table border=\"1\" class=\"dataframe\">\n",
       "  <thead>\n",
       "    <tr style=\"text-align: right;\">\n",
       "      <th></th>\n",
       "      <th>BALANCE_FREQUENCY</th>\n",
       "      <th>ONEOFF_PURCHASES</th>\n",
       "      <th>INSTALLMENTS_PURCHASES</th>\n",
       "      <th>PURCHASES_FREQUENCY</th>\n",
       "      <th>ONEOFF_PURCHASES_FREQUENCY</th>\n",
       "      <th>PURCHASES_INSTALLMENTS_FREQUENCY</th>\n",
       "      <th>CASH_ADVANCE_FREQUENCY</th>\n",
       "      <th>CASH_ADVANCE_TRX</th>\n",
       "      <th>PURCHASES_TRX</th>\n",
       "      <th>Monthly_avg_purchase</th>\n",
       "      <th>Monthly_cash_advance</th>\n",
       "      <th>limit_usage</th>\n",
       "      <th>payment_minpay</th>\n",
       "    </tr>\n",
       "  </thead>\n",
       "  <tbody>\n",
       "    <tr>\n",
       "      <th>0</th>\n",
       "      <td>0.597837</td>\n",
       "      <td>0.000000</td>\n",
       "      <td>4.568506</td>\n",
       "      <td>0.154151</td>\n",
       "      <td>0.000000</td>\n",
       "      <td>0.080042</td>\n",
       "      <td>0.000000</td>\n",
       "      <td>0.000000</td>\n",
       "      <td>1.098612</td>\n",
       "      <td>2.191654</td>\n",
       "      <td>0.000000</td>\n",
       "      <td>0.040086</td>\n",
       "      <td>0.894662</td>\n",
       "    </tr>\n",
       "    <tr>\n",
       "      <th>1</th>\n",
       "      <td>0.646627</td>\n",
       "      <td>0.000000</td>\n",
       "      <td>0.000000</td>\n",
       "      <td>0.000000</td>\n",
       "      <td>0.000000</td>\n",
       "      <td>0.000000</td>\n",
       "      <td>0.223144</td>\n",
       "      <td>1.609438</td>\n",
       "      <td>0.000000</td>\n",
       "      <td>0.000000</td>\n",
       "      <td>6.287695</td>\n",
       "      <td>0.376719</td>\n",
       "      <td>1.574068</td>\n",
       "    </tr>\n",
       "    <tr>\n",
       "      <th>2</th>\n",
       "      <td>0.693147</td>\n",
       "      <td>6.651791</td>\n",
       "      <td>0.000000</td>\n",
       "      <td>0.693147</td>\n",
       "      <td>0.693147</td>\n",
       "      <td>0.000000</td>\n",
       "      <td>0.000000</td>\n",
       "      <td>0.000000</td>\n",
       "      <td>2.564949</td>\n",
       "      <td>4.180994</td>\n",
       "      <td>0.000000</td>\n",
       "      <td>0.287197</td>\n",
       "      <td>0.688979</td>\n",
       "    </tr>\n",
       "    <tr>\n",
       "      <th>3</th>\n",
       "      <td>0.492477</td>\n",
       "      <td>7.313220</td>\n",
       "      <td>0.000000</td>\n",
       "      <td>0.080042</td>\n",
       "      <td>0.080042</td>\n",
       "      <td>0.000000</td>\n",
       "      <td>0.080042</td>\n",
       "      <td>0.693147</td>\n",
       "      <td>0.693147</td>\n",
       "      <td>4.835620</td>\n",
       "      <td>2.898616</td>\n",
       "      <td>0.200671</td>\n",
       "      <td>0.000000</td>\n",
       "    </tr>\n",
       "    <tr>\n",
       "      <th>4</th>\n",
       "      <td>0.693147</td>\n",
       "      <td>2.833213</td>\n",
       "      <td>0.000000</td>\n",
       "      <td>0.080042</td>\n",
       "      <td>0.080042</td>\n",
       "      <td>0.000000</td>\n",
       "      <td>0.000000</td>\n",
       "      <td>0.000000</td>\n",
       "      <td>0.693147</td>\n",
       "      <td>0.847298</td>\n",
       "      <td>0.000000</td>\n",
       "      <td>0.519644</td>\n",
       "      <td>1.327360</td>\n",
       "    </tr>\n",
       "  </tbody>\n",
       "</table>\n",
       "</div>"
      ],
      "text/plain": [
       "   BALANCE_FREQUENCY  ONEOFF_PURCHASES  INSTALLMENTS_PURCHASES  \\\n",
       "0           0.597837          0.000000                4.568506   \n",
       "1           0.646627          0.000000                0.000000   \n",
       "2           0.693147          6.651791                0.000000   \n",
       "3           0.492477          7.313220                0.000000   \n",
       "4           0.693147          2.833213                0.000000   \n",
       "\n",
       "   PURCHASES_FREQUENCY  ONEOFF_PURCHASES_FREQUENCY  \\\n",
       "0             0.154151                    0.000000   \n",
       "1             0.000000                    0.000000   \n",
       "2             0.693147                    0.693147   \n",
       "3             0.080042                    0.080042   \n",
       "4             0.080042                    0.080042   \n",
       "\n",
       "   PURCHASES_INSTALLMENTS_FREQUENCY  CASH_ADVANCE_FREQUENCY  CASH_ADVANCE_TRX  \\\n",
       "0                          0.080042                0.000000          0.000000   \n",
       "1                          0.000000                0.223144          1.609438   \n",
       "2                          0.000000                0.000000          0.000000   \n",
       "3                          0.000000                0.080042          0.693147   \n",
       "4                          0.000000                0.000000          0.000000   \n",
       "\n",
       "   PURCHASES_TRX  Monthly_avg_purchase  Monthly_cash_advance  limit_usage  \\\n",
       "0       1.098612              2.191654              0.000000     0.040086   \n",
       "1       0.000000              0.000000              6.287695     0.376719   \n",
       "2       2.564949              4.180994              0.000000     0.287197   \n",
       "3       0.693147              4.835620              2.898616     0.200671   \n",
       "4       0.693147              0.847298              0.000000     0.519644   \n",
       "\n",
       "   payment_minpay  \n",
       "0        0.894662  \n",
       "1        1.574068  \n",
       "2        0.688979  \n",
       "3        0.000000  \n",
       "4        1.327360  "
      ]
     },
     "execution_count": 24,
     "metadata": {},
     "output_type": "execute_result"
    }
   ],
   "source": [
    "cc_pre.head()"
   ]
  },
  {
   "cell_type": "markdown",
   "metadata": {},
   "source": [
    "### Average minimum payment ratio for each purchase type"
   ]
  },
  {
   "cell_type": "code",
   "execution_count": 25,
   "metadata": {},
   "outputs": [],
   "source": [
    "x=cc.groupby('PURCHASE_TYPE').apply(lambda x: np.mean(x['payment_minpay']))"
   ]
  },
  {
   "cell_type": "code",
   "execution_count": 26,
   "metadata": {},
   "outputs": [
    {
     "data": {
      "text/plain": [
       "PURCHASE_TYPE\n",
       "both_oneoff_installment     7.236982\n",
       "installment                13.259004\n",
       "none                       10.087451\n",
       "one_off                     5.571082\n",
       "dtype: float64"
      ]
     },
     "execution_count": 26,
     "metadata": {},
     "output_type": "execute_result"
    }
   ],
   "source": [
    "x"
   ]
  },
  {
   "cell_type": "code",
   "execution_count": 31,
   "metadata": {},
   "outputs": [
    {
     "data": {
      "image/png": "[encoded data removed]",
      "text/plain": [
       "<Figure size 432x288 with 1 Axes>"
      ]
     },
     "metadata": {
      "needs_background": "light"
     },
     "output_type": "display_data"
    }
   ],
   "source": [
    "x.plot(kind='bar',title='mean of min payment ratio for each purchase type')\n",
    "plt.show()"
   ]
  },
  {
   "cell_type": "markdown",
   "metadata": {},
   "source": [
    "### From the above graph we see that customers with installment purchse are paying dues"
   ]
  },
  {
   "cell_type": "markdown",
   "metadata": {},
   "source": [
    "### Average monthly cash advance for each purchase type"
   ]
  },
  {
   "cell_type": "code",
   "execution_count": 32,
   "metadata": {},
   "outputs": [],
   "source": [
    "x1=cc.groupby('PURCHASE_TYPE').apply(lambda x : np.mean(x['Monthly_cash_advance']))"
   ]
  },
  {
   "cell_type": "code",
   "execution_count": 33,
   "metadata": {},
   "outputs": [
    {
     "data": {
      "image/png": "[encoded data removed]",
      "text/plain": [
       "<Figure size 432x288 with 1 Axes>"
      ]
     },
     "metadata": {
      "needs_background": "light"
     },
     "output_type": "display_data"
    }
   ],
   "source": [
    "x1.plot(kind='bar',title='Average monthly cash advance for each purchase type')\n",
    "plt.show()"
   ]
  },
  {
   "cell_type": "markdown",
   "metadata": {},
   "source": [
    "### From the above graph we see that customers who are neither do on-off nor installment purchase having high chance of taking more cash on advance"
   ]
  },
  {
   "cell_type": "markdown",
   "metadata": {},
   "source": [
    "### Average of limit usage of customers for each purchase types"
   ]
  },
  {
   "cell_type": "code",
   "execution_count": 34,
   "metadata": {},
   "outputs": [],
   "source": [
    "x2=cc.groupby('PURCHASE_TYPE').apply(lambda x: np.mean(x['limit_usage']))"
   ]
  },
  {
   "cell_type": "code",
   "execution_count": 36,
   "metadata": {},
   "outputs": [
    {
     "data": {
      "image/png": "[encoded data removed]",
      "text/plain": [
       "<Figure size 432x288 with 1 Axes>"
      ]
     },
     "metadata": {
      "needs_background": "light"
     },
     "output_type": "display_data"
    }
   ],
   "source": [
    "x2.plot(kind='bar',title='Average of limit usage of customers for each purchase types')\n",
    "plt.show()"
   ]
  },
  {
   "cell_type": "markdown",
   "metadata": {},
   "source": [
    "### Customers with installment type purchases have good credit score"
   ]
  },
  {
   "cell_type": "markdown",
   "metadata": {},
   "source": [
    "### Creat dummy variables for categorical variables"
   ]
  },
  {
   "cell_type": "code",
   "execution_count": 37,
   "metadata": {},
   "outputs": [],
   "source": [
    "cc_original=pd.concat([cc,pd.get_dummies(cc['PURCHASE_TYPE'])],axis=1)"
   ]
  },
  {
   "cell_type": "code",
   "execution_count": 38,
   "metadata": {},
   "outputs": [],
   "source": [
    "cc_dummy=pd.concat([cc_pre,pd.get_dummies(cc['PURCHASE_TYPE'])],axis=1)"
   ]
  },
  {
   "cell_type": "code",
   "execution_count": 39,
   "metadata": {},
   "outputs": [
    {
     "data": {
      "text/html": [
       "<div>\n",
       "<style scoped>\n",
       "    .dataframe tbody tr th:only-of-type {\n",
       "        vertical-align: middle;\n",
       "    }\n",
       "\n",
       "    .dataframe tbody tr th {\n",
       "        vertical-align: top;\n",
       "    }\n",
       "\n",
       "    .dataframe thead th {\n",
       "        text-align: right;\n",
       "    }\n",
       "</style>\n",
       "<table border=\"1\" class=\"dataframe\">\n",
       "  <thead>\n",
       "    <tr style=\"text-align: right;\">\n",
       "      <th></th>\n",
       "      <th>BALANCE_FREQUENCY</th>\n",
       "      <th>ONEOFF_PURCHASES</th>\n",
       "      <th>INSTALLMENTS_PURCHASES</th>\n",
       "      <th>PURCHASES_FREQUENCY</th>\n",
       "      <th>ONEOFF_PURCHASES_FREQUENCY</th>\n",
       "      <th>PURCHASES_INSTALLMENTS_FREQUENCY</th>\n",
       "      <th>CASH_ADVANCE_FREQUENCY</th>\n",
       "      <th>CASH_ADVANCE_TRX</th>\n",
       "      <th>PURCHASES_TRX</th>\n",
       "      <th>Monthly_avg_purchase</th>\n",
       "      <th>Monthly_cash_advance</th>\n",
       "      <th>limit_usage</th>\n",
       "      <th>payment_minpay</th>\n",
       "      <th>both_oneoff_installment</th>\n",
       "      <th>installment</th>\n",
       "      <th>none</th>\n",
       "      <th>one_off</th>\n",
       "    </tr>\n",
       "  </thead>\n",
       "  <tbody>\n",
       "    <tr>\n",
       "      <th>0</th>\n",
       "      <td>0.597837</td>\n",
       "      <td>0.000000</td>\n",
       "      <td>4.568506</td>\n",
       "      <td>0.154151</td>\n",
       "      <td>0.000000</td>\n",
       "      <td>0.080042</td>\n",
       "      <td>0.000000</td>\n",
       "      <td>0.000000</td>\n",
       "      <td>1.098612</td>\n",
       "      <td>2.191654</td>\n",
       "      <td>0.000000</td>\n",
       "      <td>0.040086</td>\n",
       "      <td>0.894662</td>\n",
       "      <td>0</td>\n",
       "      <td>1</td>\n",
       "      <td>0</td>\n",
       "      <td>0</td>\n",
       "    </tr>\n",
       "    <tr>\n",
       "      <th>1</th>\n",
       "      <td>0.646627</td>\n",
       "      <td>0.000000</td>\n",
       "      <td>0.000000</td>\n",
       "      <td>0.000000</td>\n",
       "      <td>0.000000</td>\n",
       "      <td>0.000000</td>\n",
       "      <td>0.223144</td>\n",
       "      <td>1.609438</td>\n",
       "      <td>0.000000</td>\n",
       "      <td>0.000000</td>\n",
       "      <td>6.287695</td>\n",
       "      <td>0.376719</td>\n",
       "      <td>1.574068</td>\n",
       "      <td>0</td>\n",
       "      <td>0</td>\n",
       "      <td>1</td>\n",
       "      <td>0</td>\n",
       "    </tr>\n",
       "    <tr>\n",
       "      <th>2</th>\n",
       "      <td>0.693147</td>\n",
       "      <td>6.651791</td>\n",
       "      <td>0.000000</td>\n",
       "      <td>0.693147</td>\n",
       "      <td>0.693147</td>\n",
       "      <td>0.000000</td>\n",
       "      <td>0.000000</td>\n",
       "      <td>0.000000</td>\n",
       "      <td>2.564949</td>\n",
       "      <td>4.180994</td>\n",
       "      <td>0.000000</td>\n",
       "      <td>0.287197</td>\n",
       "      <td>0.688979</td>\n",
       "      <td>0</td>\n",
       "      <td>0</td>\n",
       "      <td>0</td>\n",
       "      <td>1</td>\n",
       "    </tr>\n",
       "    <tr>\n",
       "      <th>3</th>\n",
       "      <td>0.492477</td>\n",
       "      <td>7.313220</td>\n",
       "      <td>0.000000</td>\n",
       "      <td>0.080042</td>\n",
       "      <td>0.080042</td>\n",
       "      <td>0.000000</td>\n",
       "      <td>0.080042</td>\n",
       "      <td>0.693147</td>\n",
       "      <td>0.693147</td>\n",
       "      <td>4.835620</td>\n",
       "      <td>2.898616</td>\n",
       "      <td>0.200671</td>\n",
       "      <td>0.000000</td>\n",
       "      <td>0</td>\n",
       "      <td>0</td>\n",
       "      <td>0</td>\n",
       "      <td>1</td>\n",
       "    </tr>\n",
       "    <tr>\n",
       "      <th>4</th>\n",
       "      <td>0.693147</td>\n",
       "      <td>2.833213</td>\n",
       "      <td>0.000000</td>\n",
       "      <td>0.080042</td>\n",
       "      <td>0.080042</td>\n",
       "      <td>0.000000</td>\n",
       "      <td>0.000000</td>\n",
       "      <td>0.000000</td>\n",
       "      <td>0.693147</td>\n",
       "      <td>0.847298</td>\n",
       "      <td>0.000000</td>\n",
       "      <td>0.519644</td>\n",
       "      <td>1.327360</td>\n",
       "      <td>0</td>\n",
       "      <td>0</td>\n",
       "      <td>0</td>\n",
       "      <td>1</td>\n",
       "    </tr>\n",
       "  </tbody>\n",
       "</table>\n",
       "</div>"
      ],
      "text/plain": [
       "   BALANCE_FREQUENCY  ONEOFF_PURCHASES  INSTALLMENTS_PURCHASES  \\\n",
       "0           0.597837          0.000000                4.568506   \n",
       "1           0.646627          0.000000                0.000000   \n",
       "2           0.693147          6.651791                0.000000   \n",
       "3           0.492477          7.313220                0.000000   \n",
       "4           0.693147          2.833213                0.000000   \n",
       "\n",
       "   PURCHASES_FREQUENCY  ONEOFF_PURCHASES_FREQUENCY  \\\n",
       "0             0.154151                    0.000000   \n",
       "1             0.000000                    0.000000   \n",
       "2             0.693147                    0.693147   \n",
       "3             0.080042                    0.080042   \n",
       "4             0.080042                    0.080042   \n",
       "\n",
       "   PURCHASES_INSTALLMENTS_FREQUENCY  CASH_ADVANCE_FREQUENCY  CASH_ADVANCE_TRX  \\\n",
       "0                          0.080042                0.000000          0.000000   \n",
       "1                          0.000000                0.223144          1.609438   \n",
       "2                          0.000000                0.000000          0.000000   \n",
       "3                          0.000000                0.080042          0.693147   \n",
       "4                          0.000000                0.000000          0.000000   \n",
       "\n",
       "   PURCHASES_TRX  Monthly_avg_purchase  Monthly_cash_advance  limit_usage  \\\n",
       "0       1.098612              2.191654              0.000000     0.040086   \n",
       "1       0.000000              0.000000              6.287695     0.376719   \n",
       "2       2.564949              4.180994              0.000000     0.287197   \n",
       "3       0.693147              4.835620              2.898616     0.200671   \n",
       "4       0.693147              0.847298              0.000000     0.519644   \n",
       "\n",
       "   payment_minpay  both_oneoff_installment  installment  none  one_off  \n",
       "0        0.894662                        0            1     0        0  \n",
       "1        1.574068                        0            0     1        0  \n",
       "2        0.688979                        0            0     0        1  \n",
       "3        0.000000                        0            0     0        1  \n",
       "4        1.327360                        0            0     0        1  "
      ]
     },
     "execution_count": 39,
     "metadata": {},
     "output_type": "execute_result"
    }
   ],
   "source": [
    "cc_dummy.head()"
   ]
  },
  {
   "cell_type": "code",
   "execution_count": 40,
   "metadata": {},
   "outputs": [
    {
     "data": {
      "text/plain": [
       "BALANCE_FREQUENCY                   0\n",
       "ONEOFF_PURCHASES                    0\n",
       "INSTALLMENTS_PURCHASES              0\n",
       "PURCHASES_FREQUENCY                 0\n",
       "ONEOFF_PURCHASES_FREQUENCY          0\n",
       "PURCHASES_INSTALLMENTS_FREQUENCY    0\n",
       "CASH_ADVANCE_FREQUENCY              0\n",
       "CASH_ADVANCE_TRX                    0\n",
       "PURCHASES_TRX                       0\n",
       "Monthly_avg_purchase                0\n",
       "Monthly_cash_advance                0\n",
       "limit_usage                         0\n",
       "payment_minpay                      0\n",
       "both_oneoff_installment             0\n",
       "installment                         0\n",
       "none                                0\n",
       "one_off                             0\n",
       "dtype: int64"
      ]
     },
     "execution_count": 40,
     "metadata": {},
     "output_type": "execute_result"
    }
   ],
   "source": [
    "cc_dummy.isnull().sum()"
   ]
  },
  {
   "cell_type": "code",
   "execution_count": 41,
   "metadata": {},
   "outputs": [
    {
     "data": {
      "text/html": [
       "<div>\n",
       "<style scoped>\n",
       "    .dataframe tbody tr th:only-of-type {\n",
       "        vertical-align: middle;\n",
       "    }\n",
       "\n",
       "    .dataframe tbody tr th {\n",
       "        vertical-align: top;\n",
       "    }\n",
       "\n",
       "    .dataframe thead th {\n",
       "        text-align: right;\n",
       "    }\n",
       "</style>\n",
       "<table border=\"1\" class=\"dataframe\">\n",
       "  <thead>\n",
       "    <tr style=\"text-align: right;\">\n",
       "      <th></th>\n",
       "      <th>BALANCE_FREQUENCY</th>\n",
       "      <th>ONEOFF_PURCHASES</th>\n",
       "      <th>INSTALLMENTS_PURCHASES</th>\n",
       "      <th>PURCHASES_FREQUENCY</th>\n",
       "      <th>ONEOFF_PURCHASES_FREQUENCY</th>\n",
       "      <th>PURCHASES_INSTALLMENTS_FREQUENCY</th>\n",
       "      <th>CASH_ADVANCE_FREQUENCY</th>\n",
       "      <th>CASH_ADVANCE_TRX</th>\n",
       "      <th>PURCHASES_TRX</th>\n",
       "      <th>Monthly_avg_purchase</th>\n",
       "      <th>Monthly_cash_advance</th>\n",
       "      <th>limit_usage</th>\n",
       "      <th>payment_minpay</th>\n",
       "      <th>both_oneoff_installment</th>\n",
       "      <th>installment</th>\n",
       "      <th>none</th>\n",
       "      <th>one_off</th>\n",
       "    </tr>\n",
       "  </thead>\n",
       "  <tbody>\n",
       "    <tr>\n",
       "      <th>BALANCE_FREQUENCY</th>\n",
       "      <td>1.000000</td>\n",
       "      <td>0.140170</td>\n",
       "      <td>0.110565</td>\n",
       "      <td>0.211533</td>\n",
       "      <td>0.199116</td>\n",
       "      <td>0.162279</td>\n",
       "      <td>0.195083</td>\n",
       "      <td>0.191347</td>\n",
       "      <td>0.197594</td>\n",
       "      <td>0.136531</td>\n",
       "      <td>0.153342</td>\n",
       "      <td>0.452728</td>\n",
       "      <td>-0.153431</td>\n",
       "      <td>0.191432</td>\n",
       "      <td>-0.134614</td>\n",
       "      <td>0.011506</td>\n",
       "      <td>-0.085719</td>\n",
       "    </tr>\n",
       "    <tr>\n",
       "      <th>ONEOFF_PURCHASES</th>\n",
       "      <td>0.140170</td>\n",
       "      <td>1.000000</td>\n",
       "      <td>0.161434</td>\n",
       "      <td>0.394093</td>\n",
       "      <td>0.813939</td>\n",
       "      <td>0.097157</td>\n",
       "      <td>-0.128787</td>\n",
       "      <td>-0.144803</td>\n",
       "      <td>0.574393</td>\n",
       "      <td>0.712306</td>\n",
       "      <td>-0.182491</td>\n",
       "      <td>-0.063248</td>\n",
       "      <td>0.236777</td>\n",
       "      <td>0.661126</td>\n",
       "      <td>-0.573717</td>\n",
       "      <td>-0.536671</td>\n",
       "      <td>0.414662</td>\n",
       "    </tr>\n",
       "    <tr>\n",
       "      <th>INSTALLMENTS_PURCHASES</th>\n",
       "      <td>0.110565</td>\n",
       "      <td>0.161434</td>\n",
       "      <td>1.000000</td>\n",
       "      <td>0.804211</td>\n",
       "      <td>0.191380</td>\n",
       "      <td>0.905443</td>\n",
       "      <td>-0.310150</td>\n",
       "      <td>-0.335621</td>\n",
       "      <td>0.782683</td>\n",
       "      <td>0.687568</td>\n",
       "      <td>-0.377479</td>\n",
       "      <td>-0.217678</td>\n",
       "      <td>0.185773</td>\n",
       "      <td>0.607277</td>\n",
       "      <td>0.448744</td>\n",
       "      <td>-0.591238</td>\n",
       "      <td>-0.559631</td>\n",
       "    </tr>\n",
       "    <tr>\n",
       "      <th>PURCHASES_FREQUENCY</th>\n",
       "      <td>0.211533</td>\n",
       "      <td>0.394093</td>\n",
       "      <td>0.804211</td>\n",
       "      <td>1.000000</td>\n",
       "      <td>0.503478</td>\n",
       "      <td>0.856976</td>\n",
       "      <td>-0.345902</td>\n",
       "      <td>-0.382579</td>\n",
       "      <td>0.921860</td>\n",
       "      <td>0.817176</td>\n",
       "      <td>-0.433554</td>\n",
       "      <td>-0.233402</td>\n",
       "      <td>0.196350</td>\n",
       "      <td>0.521602</td>\n",
       "      <td>0.309931</td>\n",
       "      <td>-0.708043</td>\n",
       "      <td>-0.193552</td>\n",
       "    </tr>\n",
       "    <tr>\n",
       "      <th>ONEOFF_PURCHASES_FREQUENCY</th>\n",
       "      <td>0.199116</td>\n",
       "      <td>0.813939</td>\n",
       "      <td>0.191380</td>\n",
       "      <td>0.503478</td>\n",
       "      <td>1.000000</td>\n",
       "      <td>0.143362</td>\n",
       "      <td>-0.123254</td>\n",
       "      <td>-0.145991</td>\n",
       "      <td>0.621698</td>\n",
       "      <td>0.624414</td>\n",
       "      <td>-0.178300</td>\n",
       "      <td>-0.081121</td>\n",
       "      <td>0.259541</td>\n",
       "      <td>0.556323</td>\n",
       "      <td>-0.425733</td>\n",
       "      <td>-0.398242</td>\n",
       "      <td>0.232995</td>\n",
       "    </tr>\n",
       "    <tr>\n",
       "      <th>PURCHASES_INSTALLMENTS_FREQUENCY</th>\n",
       "      <td>0.162279</td>\n",
       "      <td>0.097157</td>\n",
       "      <td>0.905443</td>\n",
       "      <td>0.856976</td>\n",
       "      <td>0.143362</td>\n",
       "      <td>1.000000</td>\n",
       "      <td>-0.290847</td>\n",
       "      <td>-0.315215</td>\n",
       "      <td>0.769837</td>\n",
       "      <td>0.613901</td>\n",
       "      <td>-0.354226</td>\n",
       "      <td>-0.191502</td>\n",
       "      <td>0.141581</td>\n",
       "      <td>0.486777</td>\n",
       "      <td>0.446637</td>\n",
       "      <td>-0.520723</td>\n",
       "      <td>-0.493143</td>\n",
       "    </tr>\n",
       "    <tr>\n",
       "      <th>CASH_ADVANCE_FREQUENCY</th>\n",
       "      <td>0.195083</td>\n",
       "      <td>-0.128787</td>\n",
       "      <td>-0.310150</td>\n",
       "      <td>-0.345902</td>\n",
       "      <td>-0.123254</td>\n",
       "      <td>-0.290847</td>\n",
       "      <td>1.000000</td>\n",
       "      <td>0.936469</td>\n",
       "      <td>-0.327403</td>\n",
       "      <td>-0.341238</td>\n",
       "      <td>0.826931</td>\n",
       "      <td>0.433359</td>\n",
       "      <td>-0.131028</td>\n",
       "      <td>-0.104110</td>\n",
       "      <td>-0.253079</td>\n",
       "      <td>0.403820</td>\n",
       "      <td>-0.027924</td>\n",
       "    </tr>\n",
       "    <tr>\n",
       "      <th>CASH_ADVANCE_TRX</th>\n",
       "      <td>0.191347</td>\n",
       "      <td>-0.144803</td>\n",
       "      <td>-0.335621</td>\n",
       "      <td>-0.382579</td>\n",
       "      <td>-0.145991</td>\n",
       "      <td>-0.315215</td>\n",
       "      <td>0.936469</td>\n",
       "      <td>1.000000</td>\n",
       "      <td>-0.357895</td>\n",
       "      <td>-0.378010</td>\n",
       "      <td>0.902805</td>\n",
       "      <td>0.467613</td>\n",
       "      <td>-0.146743</td>\n",
       "      <td>-0.109572</td>\n",
       "      <td>-0.279532</td>\n",
       "      <td>0.448072</td>\n",
       "      <td>-0.039111</td>\n",
       "    </tr>\n",
       "    <tr>\n",
       "      <th>PURCHASES_TRX</th>\n",
       "      <td>0.197594</td>\n",
       "      <td>0.574393</td>\n",
       "      <td>0.782683</td>\n",
       "      <td>0.921860</td>\n",
       "      <td>0.621698</td>\n",
       "      <td>0.769837</td>\n",
       "      <td>-0.327403</td>\n",
       "      <td>-0.357895</td>\n",
       "      <td>1.000000</td>\n",
       "      <td>0.899851</td>\n",
       "      <td>-0.414205</td>\n",
       "      <td>-0.194377</td>\n",
       "      <td>0.237105</td>\n",
       "      <td>0.620589</td>\n",
       "      <td>0.161920</td>\n",
       "      <td>-0.749516</td>\n",
       "      <td>-0.105244</td>\n",
       "    </tr>\n",
       "    <tr>\n",
       "      <th>Monthly_avg_purchase</th>\n",
       "      <td>0.136531</td>\n",
       "      <td>0.712306</td>\n",
       "      <td>0.687568</td>\n",
       "      <td>0.817176</td>\n",
       "      <td>0.624414</td>\n",
       "      <td>0.613901</td>\n",
       "      <td>-0.341238</td>\n",
       "      <td>-0.378010</td>\n",
       "      <td>0.899851</td>\n",
       "      <td>1.000000</td>\n",
       "      <td>-0.426933</td>\n",
       "      <td>-0.223503</td>\n",
       "      <td>0.290643</td>\n",
       "      <td>0.573881</td>\n",
       "      <td>0.089251</td>\n",
       "      <td>-0.828244</td>\n",
       "      <td>0.106641</td>\n",
       "    </tr>\n",
       "    <tr>\n",
       "      <th>Monthly_cash_advance</th>\n",
       "      <td>0.153342</td>\n",
       "      <td>-0.182491</td>\n",
       "      <td>-0.377479</td>\n",
       "      <td>-0.433554</td>\n",
       "      <td>-0.178300</td>\n",
       "      <td>-0.354226</td>\n",
       "      <td>0.826931</td>\n",
       "      <td>0.902805</td>\n",
       "      <td>-0.414205</td>\n",
       "      <td>-0.426933</td>\n",
       "      <td>1.000000</td>\n",
       "      <td>0.451844</td>\n",
       "      <td>-0.128380</td>\n",
       "      <td>-0.144071</td>\n",
       "      <td>-0.295670</td>\n",
       "      <td>0.516029</td>\n",
       "      <td>-0.052756</td>\n",
       "    </tr>\n",
       "    <tr>\n",
       "      <th>limit_usage</th>\n",
       "      <td>0.452728</td>\n",
       "      <td>-0.063248</td>\n",
       "      <td>-0.217678</td>\n",
       "      <td>-0.233402</td>\n",
       "      <td>-0.081121</td>\n",
       "      <td>-0.191502</td>\n",
       "      <td>0.433359</td>\n",
       "      <td>0.467613</td>\n",
       "      <td>-0.194377</td>\n",
       "      <td>-0.223503</td>\n",
       "      <td>0.451844</td>\n",
       "      <td>1.000000</td>\n",
       "      <td>-0.470031</td>\n",
       "      <td>-0.050765</td>\n",
       "      <td>-0.213383</td>\n",
       "      <td>0.285237</td>\n",
       "      <td>-0.008639</td>\n",
       "    </tr>\n",
       "    <tr>\n",
       "      <th>payment_minpay</th>\n",
       "      <td>-0.153431</td>\n",
       "      <td>0.236777</td>\n",
       "      <td>0.185773</td>\n",
       "      <td>0.196350</td>\n",
       "      <td>0.259541</td>\n",
       "      <td>0.141581</td>\n",
       "      <td>-0.131028</td>\n",
       "      <td>-0.146743</td>\n",
       "      <td>0.237105</td>\n",
       "      <td>0.290643</td>\n",
       "      <td>-0.128380</td>\n",
       "      <td>-0.470031</td>\n",
       "      <td>1.000000</td>\n",
       "      <td>0.195392</td>\n",
       "      <td>-0.066848</td>\n",
       "      <td>-0.126643</td>\n",
       "      <td>-0.020093</td>\n",
       "    </tr>\n",
       "    <tr>\n",
       "      <th>both_oneoff_installment</th>\n",
       "      <td>0.191432</td>\n",
       "      <td>0.661126</td>\n",
       "      <td>0.607277</td>\n",
       "      <td>0.521602</td>\n",
       "      <td>0.556323</td>\n",
       "      <td>0.486777</td>\n",
       "      <td>-0.104110</td>\n",
       "      <td>-0.109572</td>\n",
       "      <td>0.620589</td>\n",
       "      <td>0.573881</td>\n",
       "      <td>-0.144071</td>\n",
       "      <td>-0.050765</td>\n",
       "      <td>0.195392</td>\n",
       "      <td>1.000000</td>\n",
       "      <td>-0.389530</td>\n",
       "      <td>-0.364377</td>\n",
       "      <td>-0.344898</td>\n",
       "    </tr>\n",
       "    <tr>\n",
       "      <th>installment</th>\n",
       "      <td>-0.134614</td>\n",
       "      <td>-0.573717</td>\n",
       "      <td>0.448744</td>\n",
       "      <td>0.309931</td>\n",
       "      <td>-0.425733</td>\n",
       "      <td>0.446637</td>\n",
       "      <td>-0.253079</td>\n",
       "      <td>-0.279532</td>\n",
       "      <td>0.161920</td>\n",
       "      <td>0.089251</td>\n",
       "      <td>-0.295670</td>\n",
       "      <td>-0.213383</td>\n",
       "      <td>-0.066848</td>\n",
       "      <td>-0.389530</td>\n",
       "      <td>1.000000</td>\n",
       "      <td>-0.316004</td>\n",
       "      <td>-0.299111</td>\n",
       "    </tr>\n",
       "    <tr>\n",
       "      <th>none</th>\n",
       "      <td>0.011506</td>\n",
       "      <td>-0.536671</td>\n",
       "      <td>-0.591238</td>\n",
       "      <td>-0.708043</td>\n",
       "      <td>-0.398242</td>\n",
       "      <td>-0.520723</td>\n",
       "      <td>0.403820</td>\n",
       "      <td>0.448072</td>\n",
       "      <td>-0.749516</td>\n",
       "      <td>-0.828244</td>\n",
       "      <td>0.516029</td>\n",
       "      <td>0.285237</td>\n",
       "      <td>-0.126643</td>\n",
       "      <td>-0.364377</td>\n",
       "      <td>-0.316004</td>\n",
       "      <td>1.000000</td>\n",
       "      <td>-0.279797</td>\n",
       "    </tr>\n",
       "    <tr>\n",
       "      <th>one_off</th>\n",
       "      <td>-0.085719</td>\n",
       "      <td>0.414662</td>\n",
       "      <td>-0.559631</td>\n",
       "      <td>-0.193552</td>\n",
       "      <td>0.232995</td>\n",
       "      <td>-0.493143</td>\n",
       "      <td>-0.027924</td>\n",
       "      <td>-0.039111</td>\n",
       "      <td>-0.105244</td>\n",
       "      <td>0.106641</td>\n",
       "      <td>-0.052756</td>\n",
       "      <td>-0.008639</td>\n",
       "      <td>-0.020093</td>\n",
       "      <td>-0.344898</td>\n",
       "      <td>-0.299111</td>\n",
       "      <td>-0.279797</td>\n",
       "      <td>1.000000</td>\n",
       "    </tr>\n",
       "  </tbody>\n",
       "</table>\n",
       "</div>"
      ],
      "text/plain": [
       "                                  BALANCE_FREQUENCY  ONEOFF_PURCHASES  \\\n",
       "BALANCE_FREQUENCY                          1.000000          0.140170   \n",
       "ONEOFF_PURCHASES                           0.140170          1.000000   \n",
       "INSTALLMENTS_PURCHASES                     0.110565          0.161434   \n",
       "PURCHASES_FREQUENCY                        0.211533          0.394093   \n",
       "ONEOFF_PURCHASES_FREQUENCY                 0.199116          0.813939   \n",
       "PURCHASES_INSTALLMENTS_FREQUENCY           0.162279          0.097157   \n",
       "CASH_ADVANCE_FREQUENCY                     0.195083         -0.128787   \n",
       "CASH_ADVANCE_TRX                           0.191347         -0.144803   \n",
       "PURCHASES_TRX                              0.197594          0.574393   \n",
       "Monthly_avg_purchase                       0.136531          0.712306   \n",
       "Monthly_cash_advance                       0.153342         -0.182491   \n",
       "limit_usage                                0.452728         -0.063248   \n",
       "payment_minpay                            -0.153431          0.236777   \n",
       "both_oneoff_installment                    0.191432          0.661126   \n",
       "installment                               -0.134614         -0.573717   \n",
       "none                                       0.011506         -0.536671   \n",
       "one_off                                   -0.085719          0.414662   \n",
       "\n",
       "                                  INSTALLMENTS_PURCHASES  PURCHASES_FREQUENCY  \\\n",
       "BALANCE_FREQUENCY                               0.110565             0.211533   \n",
       "ONEOFF_PURCHASES                                0.161434             0.394093   \n",
       "INSTALLMENTS_PURCHASES                          1.000000             0.804211   \n",
       "PURCHASES_FREQUENCY                             0.804211             1.000000   \n",
       "ONEOFF_PURCHASES_FREQUENCY                      0.191380             0.503478   \n",
       "PURCHASES_INSTALLMENTS_FREQUENCY                0.905443             0.856976   \n",
       "CASH_ADVANCE_FREQUENCY                         -0.310150            -0.345902   \n",
       "CASH_ADVANCE_TRX                               -0.335621            -0.382579   \n",
       "PURCHASES_TRX                                   0.782683             0.921860   \n",
       "Monthly_avg_purchase                            0.687568             0.817176   \n",
       "Monthly_cash_advance                           -0.377479            -0.433554   \n",
       "limit_usage                                    -0.217678            -0.233402   \n",
       "payment_minpay                                  0.185773             0.196350   \n",
       "both_oneoff_installment                         0.607277             0.521602   \n",
       "installment                                     0.448744             0.309931   \n",
       "none                                           -0.591238            -0.708043   \n",
       "one_off                                        -0.559631            -0.193552   \n",
       "\n",
       "                                  ONEOFF_PURCHASES_FREQUENCY  \\\n",
       "BALANCE_FREQUENCY                                   0.199116   \n",
       "ONEOFF_PURCHASES                                    0.813939   \n",
       "INSTALLMENTS_PURCHASES                              0.191380   \n",
       "PURCHASES_FREQUENCY                                 0.503478   \n",
       "ONEOFF_PURCHASES_FREQUENCY                          1.000000   \n",
       "PURCHASES_INSTALLMENTS_FREQUENCY                    0.143362   \n",
       "CASH_ADVANCE_FREQUENCY                             -0.123254   \n",
       "CASH_ADVANCE_TRX                                   -0.145991   \n",
       "PURCHASES_TRX                                       0.621698   \n",
       "Monthly_avg_purchase                                0.624414   \n",
       "Monthly_cash_advance                               -0.178300   \n",
       "limit_usage                                        -0.081121   \n",
       "payment_minpay                                      0.259541   \n",
       "both_oneoff_installment                             0.556323   \n",
       "installment                                        -0.425733   \n",
       "none                                               -0.398242   \n",
       "one_off                                             0.232995   \n",
       "\n",
       "                                  PURCHASES_INSTALLMENTS_FREQUENCY  \\\n",
       "BALANCE_FREQUENCY                                         0.162279   \n",
       "ONEOFF_PURCHASES                                          0.097157   \n",
       "INSTALLMENTS_PURCHASES                                    0.905443   \n",
       "PURCHASES_FREQUENCY                                       0.856976   \n",
       "ONEOFF_PURCHASES_FREQUENCY                                0.143362   \n",
       "PURCHASES_INSTALLMENTS_FREQUENCY                          1.000000   \n",
       "CASH_ADVANCE_FREQUENCY                                   -0.290847   \n",
       "CASH_ADVANCE_TRX                                         -0.315215   \n",
       "PURCHASES_TRX                                             0.769837   \n",
       "Monthly_avg_purchase                                      0.613901   \n",
       "Monthly_cash_advance                                     -0.354226   \n",
       "limit_usage                                              -0.191502   \n",
       "payment_minpay                                            0.141581   \n",
       "both_oneoff_installment                                   0.486777   \n",
       "installment                                               0.446637   \n",
       "none                                                     -0.520723   \n",
       "one_off                                                  -0.493143   \n",
       "\n",
       "                                  CASH_ADVANCE_FREQUENCY  CASH_ADVANCE_TRX  \\\n",
       "BALANCE_FREQUENCY                               0.195083          0.191347   \n",
       "ONEOFF_PURCHASES                               -0.128787         -0.144803   \n",
       "INSTALLMENTS_PURCHASES                         -0.310150         -0.335621   \n",
       "PURCHASES_FREQUENCY                            -0.345902         -0.382579   \n",
       "ONEOFF_PURCHASES_FREQUENCY                     -0.123254         -0.145991   \n",
       "PURCHASES_INSTALLMENTS_FREQUENCY               -0.290847         -0.315215   \n",
       "CASH_ADVANCE_FREQUENCY                          1.000000          0.936469   \n",
       "CASH_ADVANCE_TRX                                0.936469          1.000000   \n",
       "PURCHASES_TRX                                  -0.327403         -0.357895   \n",
       "Monthly_avg_purchase                           -0.341238         -0.378010   \n",
       "Monthly_cash_advance                            0.826931          0.902805   \n",
       "limit_usage                                     0.433359          0.467613   \n",
       "payment_minpay                                 -0.131028         -0.146743   \n",
       "both_oneoff_installment                        -0.104110         -0.109572   \n",
       "installment                                    -0.253079         -0.279532   \n",
       "none                                            0.403820          0.448072   \n",
       "one_off                                        -0.027924         -0.039111   \n",
       "\n",
       "                                  PURCHASES_TRX  Monthly_avg_purchase  \\\n",
       "BALANCE_FREQUENCY                      0.197594              0.136531   \n",
       "ONEOFF_PURCHASES                       0.574393              0.712306   \n",
       "INSTALLMENTS_PURCHASES                 0.782683              0.687568   \n",
       "PURCHASES_FREQUENCY                    0.921860              0.817176   \n",
       "ONEOFF_PURCHASES_FREQUENCY             0.621698              0.624414   \n",
       "PURCHASES_INSTALLMENTS_FREQUENCY       0.769837              0.613901   \n",
       "CASH_ADVANCE_FREQUENCY                -0.327403             -0.341238   \n",
       "CASH_ADVANCE_TRX                      -0.357895             -0.378010   \n",
       "PURCHASES_TRX                          1.000000              0.899851   \n",
       "Monthly_avg_purchase                   0.899851              1.000000   \n",
       "Monthly_cash_advance                  -0.414205             -0.426933   \n",
       "limit_usage                           -0.194377             -0.223503   \n",
       "payment_minpay                         0.237105              0.290643   \n",
       "both_oneoff_installment                0.620589              0.573881   \n",
       "installment                            0.161920              0.089251   \n",
       "none                                  -0.749516             -0.828244   \n",
       "one_off                               -0.105244              0.106641   \n",
       "\n",
       "                                  Monthly_cash_advance  limit_usage  \\\n",
       "BALANCE_FREQUENCY                             0.153342     0.452728   \n",
       "ONEOFF_PURCHASES                             -0.182491    -0.063248   \n",
       "INSTALLMENTS_PURCHASES                       -0.377479    -0.217678   \n",
       "PURCHASES_FREQUENCY                          -0.433554    -0.233402   \n",
       "ONEOFF_PURCHASES_FREQUENCY                   -0.178300    -0.081121   \n",
       "PURCHASES_INSTALLMENTS_FREQUENCY             -0.354226    -0.191502   \n",
       "CASH_ADVANCE_FREQUENCY                        0.826931     0.433359   \n",
       "CASH_ADVANCE_TRX                              0.902805     0.467613   \n",
       "PURCHASES_TRX                                -0.414205    -0.194377   \n",
       "Monthly_avg_purchase                         -0.426933    -0.223503   \n",
       "Monthly_cash_advance                          1.000000     0.451844   \n",
       "limit_usage                                   0.451844     1.000000   \n",
       "payment_minpay                               -0.128380    -0.470031   \n",
       "both_oneoff_installment                      -0.144071    -0.050765   \n",
       "installment                                  -0.295670    -0.213383   \n",
       "none                                          0.516029     0.285237   \n",
       "one_off                                      -0.052756    -0.008639   \n",
       "\n",
       "                                  payment_minpay  both_oneoff_installment  \\\n",
       "BALANCE_FREQUENCY                      -0.153431                 0.191432   \n",
       "ONEOFF_PURCHASES                        0.236777                 0.661126   \n",
       "INSTALLMENTS_PURCHASES                  0.185773                 0.607277   \n",
       "PURCHASES_FREQUENCY                     0.196350                 0.521602   \n",
       "ONEOFF_PURCHASES_FREQUENCY              0.259541                 0.556323   \n",
       "PURCHASES_INSTALLMENTS_FREQUENCY        0.141581                 0.486777   \n",
       "CASH_ADVANCE_FREQUENCY                 -0.131028                -0.104110   \n",
       "CASH_ADVANCE_TRX                       -0.146743                -0.109572   \n",
       "PURCHASES_TRX                           0.237105                 0.620589   \n",
       "Monthly_avg_purchase                    0.290643                 0.573881   \n",
       "Monthly_cash_advance                   -0.128380                -0.144071   \n",
       "limit_usage                            -0.470031                -0.050765   \n",
       "payment_minpay                          1.000000                 0.195392   \n",
       "both_oneoff_installment                 0.195392                 1.000000   \n",
       "installment                            -0.066848                -0.389530   \n",
       "none                                   -0.126643                -0.364377   \n",
       "one_off                                -0.020093                -0.344898   \n",
       "\n",
       "                                  installment      none   one_off  \n",
       "BALANCE_FREQUENCY                   -0.134614  0.011506 -0.085719  \n",
       "ONEOFF_PURCHASES                    -0.573717 -0.536671  0.414662  \n",
       "INSTALLMENTS_PURCHASES               0.448744 -0.591238 -0.559631  \n",
       "PURCHASES_FREQUENCY                  0.309931 -0.708043 -0.193552  \n",
       "ONEOFF_PURCHASES_FREQUENCY          -0.425733 -0.398242  0.232995  \n",
       "PURCHASES_INSTALLMENTS_FREQUENCY     0.446637 -0.520723 -0.493143  \n",
       "CASH_ADVANCE_FREQUENCY              -0.253079  0.403820 -0.027924  \n",
       "CASH_ADVANCE_TRX                    -0.279532  0.448072 -0.039111  \n",
       "PURCHASES_TRX                        0.161920 -0.749516 -0.105244  \n",
       "Monthly_avg_purchase                 0.089251 -0.828244  0.106641  \n",
       "Monthly_cash_advance                -0.295670  0.516029 -0.052756  \n",
       "limit_usage                         -0.213383  0.285237 -0.008639  \n",
       "payment_minpay                      -0.066848 -0.126643 -0.020093  \n",
       "both_oneoff_installment             -0.389530 -0.364377 -0.344898  \n",
       "installment                          1.000000 -0.316004 -0.299111  \n",
       "none                                -0.316004  1.000000 -0.279797  \n",
       "one_off                             -0.299111 -0.279797  1.000000  "
      ]
     },
     "execution_count": 41,
     "metadata": {},
     "output_type": "execute_result"
    }
   ],
   "source": [
    "cc_dummy.corr()"
   ]
  },
  {
   "cell_type": "code",
   "execution_count": 42,
   "metadata": {},
   "outputs": [
    {
     "data": {
      "image/png": "[encoded data removed]",
      "text/plain": [
       "<Figure size 432x288 with 2 Axes>"
      ]
     },
     "metadata": {
      "needs_background": "light"
     },
     "output_type": "display_data"
    }
   ],
   "source": [
    "sns.heatmap(cc_dummy.corr())\n",
    "plt.show()"
   ]
  },
  {
   "cell_type": "markdown",
   "metadata": {},
   "source": [
    "### From the above correlation heat map we can see that many features are corelated so we apply dimesionality reduction to neglect multicolinearity in the data"
   ]
  },
  {
   "cell_type": "markdown",
   "metadata": {},
   "source": [
    "### First we have to standardize the data to avoid the effect of scale on our result, centering and scaling will make all features with equal weight \n",
    "### Standardize the data"
   ]
  },
  {
   "cell_type": "code",
   "execution_count": 44,
   "metadata": {},
   "outputs": [
    {
     "name": "stderr",
     "output_type": "stream",
     "text": [
      "c:\\users\\intel\\appdata\\local\\programs\\python\\python37-32\\lib\\site-packages\\sklearn\\preprocessing\\data.py:625: DataConversionWarning: Data with input dtype uint8, float64 were all converted to float64 by StandardScaler.\n",
      "  return self.partial_fit(X, y)\n",
      "c:\\users\\intel\\appdata\\local\\programs\\python\\python37-32\\lib\\site-packages\\sklearn\\base.py:462: DataConversionWarning: Data with input dtype uint8, float64 were all converted to float64 by StandardScaler.\n",
      "  return self.fit(X, **fit_params).transform(X)\n"
     ]
    }
   ],
   "source": [
    "from sklearn.preprocessing import StandardScaler\n",
    "sc=StandardScaler()\n",
    "cc_scaled=sc.fit_transform(cc_dummy)"
   ]
  },
  {
   "cell_type": "markdown",
   "metadata": {},
   "source": [
    "### PCA"
   ]
  },
  {
   "cell_type": "code",
   "execution_count": 45,
   "metadata": {},
   "outputs": [],
   "source": [
    "from sklearn.decomposition import PCA"
   ]
  },
  {
   "cell_type": "code",
   "execution_count": 46,
   "metadata": {},
   "outputs": [],
   "source": [
    "var_ratio={}\n",
    "for n in range(4,15):\n",
    "    pc=PCA(n_components=n)\n",
    "    cc_pca=pc.fit(cc_scaled)\n",
    "    var_ratio[n]=sum(cc_pca.explained_variance_ratio_)"
   ]
  },
  {
   "cell_type": "code",
   "execution_count": 47,
   "metadata": {},
   "outputs": [],
   "source": [
    "pc=PCA(5)"
   ]
  },
  {
   "cell_type": "code",
   "execution_count": 48,
   "metadata": {},
   "outputs": [],
   "source": [
    "p=pc.fit(cc_scaled)"
   ]
  },
  {
   "cell_type": "code",
   "execution_count": 49,
   "metadata": {},
   "outputs": [
    {
     "data": {
      "text/plain": [
       "array([6.83574755, 3.07030693, 2.50427698, 1.38746289, 1.1138166 ])"
      ]
     },
     "execution_count": 49,
     "metadata": {},
     "output_type": "execute_result"
    }
   ],
   "source": [
    "p.explained_variance_"
   ]
  },
  {
   "cell_type": "code",
   "execution_count": 50,
   "metadata": {},
   "outputs": [
    {
     "data": {
      "text/plain": [
       "{4: 0.8115442762351267,\n",
       " 5: 0.8770555795291427,\n",
       " 6: 0.9186492443512616,\n",
       " 7: 0.9410925256030126,\n",
       " 8: 0.9616114053683058,\n",
       " 9: 0.9739787081990641,\n",
       " 10: 0.9835896584630711,\n",
       " 11: 0.989724810734195,\n",
       " 12: 0.9927550009135224,\n",
       " 13: 0.9953907562385425,\n",
       " 14: 0.9979616898169597}"
      ]
     },
     "execution_count": 50,
     "metadata": {},
     "output_type": "execute_result"
    }
   ],
   "source": [
    "var_ratio"
   ]
  },
  {
   "cell_type": "code",
   "execution_count": 51,
   "metadata": {},
   "outputs": [
    {
     "data": {
      "text/plain": [
       "<matplotlib.axes._subplots.AxesSubplot at 0x5927590>"
      ]
     },
     "execution_count": 51,
     "metadata": {},
     "output_type": "execute_result"
    },
    {
     "data": {
      "image/png": "[encoded data removed]",
      "text/plain": [
       "<Figure size 432x288 with 1 Axes>"
      ]
     },
     "metadata": {
      "needs_background": "light"
     },
     "output_type": "display_data"
    }
   ],
   "source": [
    "pd.Series(var_ratio).plot()"
   ]
  },
  {
   "cell_type": "markdown",
   "metadata": {},
   "source": [
    "### Since 5 components are contributing 87% of variance so we take 5 components"
   ]
  },
  {
   "cell_type": "code",
   "execution_count": 52,
   "metadata": {},
   "outputs": [],
   "source": [
    "pc_final=PCA(n_components=5).fit(cc_scaled)\n",
    "cc_reduced=pc_final.fit_transform(cc_scaled)"
   ]
  },
  {
   "cell_type": "code",
   "execution_count": 53,
   "metadata": {},
   "outputs": [],
   "source": [
    "df=pd.DataFrame(cc_reduced)"
   ]
  },
  {
   "cell_type": "code",
   "execution_count": 54,
   "metadata": {},
   "outputs": [],
   "source": [
    "col_list=cc_dummy.columns"
   ]
  },
  {
   "cell_type": "code",
   "execution_count": 56,
   "metadata": {},
   "outputs": [
    {
     "data": {
      "text/plain": [
       "Index(['BALANCE_FREQUENCY', 'ONEOFF_PURCHASES', 'INSTALLMENTS_PURCHASES',\n",
       "       'PURCHASES_FREQUENCY', 'ONEOFF_PURCHASES_FREQUENCY',\n",
       "       'PURCHASES_INSTALLMENTS_FREQUENCY', 'CASH_ADVANCE_FREQUENCY',\n",
       "       'CASH_ADVANCE_TRX', 'PURCHASES_TRX', 'Monthly_avg_purchase',\n",
       "       'Monthly_cash_advance', 'limit_usage', 'payment_minpay',\n",
       "       'both_oneoff_installment', 'installment', 'none', 'one_off'],\n",
       "      dtype='object')"
      ]
     },
     "execution_count": 56,
     "metadata": {},
     "output_type": "execute_result"
    }
   ],
   "source": [
    "col_list"
   ]
  },
  {
   "cell_type": "code",
   "execution_count": 66,
   "metadata": {},
   "outputs": [
    {
     "data": {
      "text/html": [
       "<div>\n",
       "<style scoped>\n",
       "    .dataframe tbody tr th:only-of-type {\n",
       "        vertical-align: middle;\n",
       "    }\n",
       "\n",
       "    .dataframe tbody tr th {\n",
       "        vertical-align: top;\n",
       "    }\n",
       "\n",
       "    .dataframe thead th {\n",
       "        text-align: right;\n",
       "    }\n",
       "</style>\n",
       "<table border=\"1\" class=\"dataframe\">\n",
       "  <thead>\n",
       "    <tr style=\"text-align: right;\">\n",
       "      <th></th>\n",
       "      <th>PC_0</th>\n",
       "      <th>PC_1</th>\n",
       "      <th>PC_2</th>\n",
       "      <th>PC_3</th>\n",
       "      <th>PC_4</th>\n",
       "    </tr>\n",
       "  </thead>\n",
       "  <tbody>\n",
       "    <tr>\n",
       "      <th>BALANCE_FREQUENCY</th>\n",
       "      <td>0.029707</td>\n",
       "      <td>0.240072</td>\n",
       "      <td>-0.263140</td>\n",
       "      <td>-0.353549</td>\n",
       "      <td>-0.228681</td>\n",
       "    </tr>\n",
       "    <tr>\n",
       "      <th>ONEOFF_PURCHASES</th>\n",
       "      <td>0.214107</td>\n",
       "      <td>0.406078</td>\n",
       "      <td>0.239165</td>\n",
       "      <td>0.001520</td>\n",
       "      <td>-0.023197</td>\n",
       "    </tr>\n",
       "    <tr>\n",
       "      <th>INSTALLMENTS_PURCHASES</th>\n",
       "      <td>0.312051</td>\n",
       "      <td>-0.098404</td>\n",
       "      <td>-0.315625</td>\n",
       "      <td>0.087983</td>\n",
       "      <td>-0.002181</td>\n",
       "    </tr>\n",
       "    <tr>\n",
       "      <th>PURCHASES_FREQUENCY</th>\n",
       "      <td>0.345823</td>\n",
       "      <td>0.015813</td>\n",
       "      <td>-0.162843</td>\n",
       "      <td>-0.074617</td>\n",
       "      <td>0.115948</td>\n",
       "    </tr>\n",
       "    <tr>\n",
       "      <th>ONEOFF_PURCHASES_FREQUENCY</th>\n",
       "      <td>0.214702</td>\n",
       "      <td>0.362208</td>\n",
       "      <td>0.163222</td>\n",
       "      <td>0.036303</td>\n",
       "      <td>-0.051279</td>\n",
       "    </tr>\n",
       "    <tr>\n",
       "      <th>PURCHASES_INSTALLMENTS_FREQUENCY</th>\n",
       "      <td>0.295451</td>\n",
       "      <td>-0.112002</td>\n",
       "      <td>-0.330029</td>\n",
       "      <td>0.023502</td>\n",
       "      <td>0.025871</td>\n",
       "    </tr>\n",
       "    <tr>\n",
       "      <th>CASH_ADVANCE_FREQUENCY</th>\n",
       "      <td>-0.214336</td>\n",
       "      <td>0.286074</td>\n",
       "      <td>-0.278586</td>\n",
       "      <td>0.096353</td>\n",
       "      <td>0.360132</td>\n",
       "    </tr>\n",
       "    <tr>\n",
       "      <th>CASH_ADVANCE_TRX</th>\n",
       "      <td>-0.229393</td>\n",
       "      <td>0.291556</td>\n",
       "      <td>-0.285089</td>\n",
       "      <td>0.103484</td>\n",
       "      <td>0.332753</td>\n",
       "    </tr>\n",
       "    <tr>\n",
       "      <th>PURCHASES_TRX</th>\n",
       "      <td>0.355503</td>\n",
       "      <td>0.106625</td>\n",
       "      <td>-0.102743</td>\n",
       "      <td>-0.054296</td>\n",
       "      <td>0.104971</td>\n",
       "    </tr>\n",
       "    <tr>\n",
       "      <th>Monthly_avg_purchase</th>\n",
       "      <td>0.345992</td>\n",
       "      <td>0.141635</td>\n",
       "      <td>0.023986</td>\n",
       "      <td>-0.079373</td>\n",
       "      <td>0.194147</td>\n",
       "    </tr>\n",
       "    <tr>\n",
       "      <th>Monthly_cash_advance</th>\n",
       "      <td>-0.243861</td>\n",
       "      <td>0.264318</td>\n",
       "      <td>-0.257427</td>\n",
       "      <td>0.135292</td>\n",
       "      <td>0.268026</td>\n",
       "    </tr>\n",
       "    <tr>\n",
       "      <th>limit_usage</th>\n",
       "      <td>-0.146302</td>\n",
       "      <td>0.235710</td>\n",
       "      <td>-0.251278</td>\n",
       "      <td>-0.431682</td>\n",
       "      <td>-0.181885</td>\n",
       "    </tr>\n",
       "    <tr>\n",
       "      <th>payment_minpay</th>\n",
       "      <td>0.119632</td>\n",
       "      <td>0.021328</td>\n",
       "      <td>0.136357</td>\n",
       "      <td>0.591561</td>\n",
       "      <td>0.215446</td>\n",
       "    </tr>\n",
       "    <tr>\n",
       "      <th>both_oneoff_installment</th>\n",
       "      <td>0.241392</td>\n",
       "      <td>0.273676</td>\n",
       "      <td>-0.131935</td>\n",
       "      <td>0.254710</td>\n",
       "      <td>-0.340849</td>\n",
       "    </tr>\n",
       "    <tr>\n",
       "      <th>installment</th>\n",
       "      <td>0.082209</td>\n",
       "      <td>-0.443375</td>\n",
       "      <td>-0.208683</td>\n",
       "      <td>-0.190829</td>\n",
       "      <td>0.353821</td>\n",
       "    </tr>\n",
       "    <tr>\n",
       "      <th>none</th>\n",
       "      <td>-0.310283</td>\n",
       "      <td>-0.005214</td>\n",
       "      <td>-0.096911</td>\n",
       "      <td>0.245104</td>\n",
       "      <td>-0.342222</td>\n",
       "    </tr>\n",
       "    <tr>\n",
       "      <th>one_off</th>\n",
       "      <td>-0.042138</td>\n",
       "      <td>0.167737</td>\n",
       "      <td>0.472749</td>\n",
       "      <td>-0.338549</td>\n",
       "      <td>0.362585</td>\n",
       "    </tr>\n",
       "  </tbody>\n",
       "</table>\n",
       "</div>"
      ],
      "text/plain": [
       "                                      PC_0      PC_1      PC_2      PC_3  \\\n",
       "BALANCE_FREQUENCY                 0.029707  0.240072 -0.263140 -0.353549   \n",
       "ONEOFF_PURCHASES                  0.214107  0.406078  0.239165  0.001520   \n",
       "INSTALLMENTS_PURCHASES            0.312051 -0.098404 -0.315625  0.087983   \n",
       "PURCHASES_FREQUENCY               0.345823  0.015813 -0.162843 -0.074617   \n",
       "ONEOFF_PURCHASES_FREQUENCY        0.214702  0.362208  0.163222  0.036303   \n",
       "PURCHASES_INSTALLMENTS_FREQUENCY  0.295451 -0.112002 -0.330029  0.023502   \n",
       "CASH_ADVANCE_FREQUENCY           -0.214336  0.286074 -0.278586  0.096353   \n",
       "CASH_ADVANCE_TRX                 -0.229393  0.291556 -0.285089  0.103484   \n",
       "PURCHASES_TRX                     0.355503  0.106625 -0.102743 -0.054296   \n",
       "Monthly_avg_purchase              0.345992  0.141635  0.023986 -0.079373   \n",
       "Monthly_cash_advance             -0.243861  0.264318 -0.257427  0.135292   \n",
       "limit_usage                      -0.146302  0.235710 -0.251278 -0.431682   \n",
       "payment_minpay                    0.119632  0.021328  0.136357  0.591561   \n",
       "both_oneoff_installment           0.241392  0.273676 -0.131935  0.254710   \n",
       "installment                       0.082209 -0.443375 -0.208683 -0.190829   \n",
       "none                             -0.310283 -0.005214 -0.096911  0.245104   \n",
       "one_off                          -0.042138  0.167737  0.472749 -0.338549   \n",
       "\n",
       "                                      PC_4  \n",
       "BALANCE_FREQUENCY                -0.228681  \n",
       "ONEOFF_PURCHASES                 -0.023197  \n",
       "INSTALLMENTS_PURCHASES           -0.002181  \n",
       "PURCHASES_FREQUENCY               0.115948  \n",
       "ONEOFF_PURCHASES_FREQUENCY       -0.051279  \n",
       "PURCHASES_INSTALLMENTS_FREQUENCY  0.025871  \n",
       "CASH_ADVANCE_FREQUENCY            0.360132  \n",
       "CASH_ADVANCE_TRX                  0.332753  \n",
       "PURCHASES_TRX                     0.104971  \n",
       "Monthly_avg_purchase              0.194147  \n",
       "Monthly_cash_advance              0.268026  \n",
       "limit_usage                      -0.181885  \n",
       "payment_minpay                    0.215446  \n",
       "both_oneoff_installment          -0.340849  \n",
       "installment                       0.353821  \n",
       "none                             -0.342222  \n",
       "one_off                           0.362585  "
      ]
     },
     "execution_count": 66,
     "metadata": {},
     "output_type": "execute_result"
    }
   ],
   "source": [
    "pd.DataFrame(pc_final.components_.T,columns=['PC_' +str(i) for i in range(5)],index=col_list)"
   ]
  },
  {
   "cell_type": "markdown",
   "metadata": {},
   "source": [
    "### Factor analysis :Variance explained by each component"
   ]
  },
  {
   "cell_type": "code",
   "execution_count": 68,
   "metadata": {},
   "outputs": [
    {
     "data": {
      "text/plain": [
       "PC_0    0.402058\n",
       "PC_1    0.180586\n",
       "PC_2    0.147294\n",
       "PC_3    0.081606\n",
       "PC_4    0.065511\n",
       "dtype: float64"
      ]
     },
     "execution_count": 68,
     "metadata": {},
     "output_type": "execute_result"
    }
   ],
   "source": [
    "pd.Series(pc_final.explained_variance_ratio_,index=['PC_'+ str(i) for i in range(5)])"
   ]
  },
  {
   "cell_type": "markdown",
   "metadata": {},
   "source": [
    "### Cluster analysis"
   ]
  },
  {
   "cell_type": "code",
   "execution_count": 67,
   "metadata": {},
   "outputs": [
    {
     "data": {
      "text/plain": [
       "array([3, 1, 0, ..., 3, 1, 0])"
      ]
     },
     "execution_count": 67,
     "metadata": {},
     "output_type": "execute_result"
    }
   ],
   "source": [
    "from sklearn.cluster import KMeans\n",
    "km_4=KMeans(n_clusters=4,random_state=123)\n",
    "km_4.fit(cc_reduced)\n",
    "km_4.labels_"
   ]
  },
  {
   "cell_type": "code",
   "execution_count": 69,
   "metadata": {},
   "outputs": [
    {
     "data": {
      "text/plain": [
       "2    2758\n",
       "3    2228\n",
       "1    2090\n",
       "0    1874\n",
       "dtype: int64"
      ]
     },
     "execution_count": 69,
     "metadata": {},
     "output_type": "execute_result"
    }
   ],
   "source": [
    "pd.Series(km_4.labels_).value_counts()"
   ]
  },
  {
   "cell_type": "code",
   "execution_count": 70,
   "metadata": {},
   "outputs": [
    {
     "data": {
      "text/plain": [
       "<matplotlib.collections.PathCollection at 0x119e52d0>"
      ]
     },
     "execution_count": 70,
     "metadata": {},
     "output_type": "execute_result"
    },
    {
     "data": {
      "image/png": "[encoded data removed]",
      "text/plain": [
       "<Figure size 504x504 with 1 Axes>"
      ]
     },
     "metadata": {
      "needs_background": "light"
     },
     "output_type": "display_data"
    }
   ],
   "source": [
    "color_map={0:'r',1:'b',2:'g',3:'y'}\n",
    "label_color=[color_map[l] for l in km_4.labels_]\n",
    "plt.figure(figsize=(7,7))\n",
    "plt.scatter(cc_reduced[:,0],cc_reduced[:,1],c=label_color,cmap='Spectral',alpha=0.5)"
   ]
  },
  {
   "cell_type": "markdown",
   "metadata": {},
   "source": [
    "### Key perfrormance variable selection"
   ]
  },
  {
   "cell_type": "code",
   "execution_count": 71,
   "metadata": {},
   "outputs": [],
   "source": [
    "col_kpi=['PURCHASES_TRX','Monthly_avg_purchase','Monthly_cash_advance','limit_usage','CASH_ADVANCE_TRX',\n",
    "         'payment_minpay','both_oneoff_installment','installment','one_off','none','CREDIT_LIMIT']"
   ]
  },
  {
   "cell_type": "code",
   "execution_count": 72,
   "metadata": {},
   "outputs": [],
   "source": [
    "cluster_df_4=pd.concat([cc_original[col_kpi],pd.Series(km_4.labels_,name='Cluster_4')],axis=1)"
   ]
  },
  {
   "cell_type": "code",
   "execution_count": 73,
   "metadata": {},
   "outputs": [
    {
     "data": {
      "text/html": [
       "<div>\n",
       "<style scoped>\n",
       "    .dataframe tbody tr th:only-of-type {\n",
       "        vertical-align: middle;\n",
       "    }\n",
       "\n",
       "    .dataframe tbody tr th {\n",
       "        vertical-align: top;\n",
       "    }\n",
       "\n",
       "    .dataframe thead th {\n",
       "        text-align: right;\n",
       "    }\n",
       "</style>\n",
       "<table border=\"1\" class=\"dataframe\">\n",
       "  <thead>\n",
       "    <tr style=\"text-align: right;\">\n",
       "      <th></th>\n",
       "      <th>PURCHASES_TRX</th>\n",
       "      <th>Monthly_avg_purchase</th>\n",
       "      <th>Monthly_cash_advance</th>\n",
       "      <th>limit_usage</th>\n",
       "      <th>CASH_ADVANCE_TRX</th>\n",
       "      <th>payment_minpay</th>\n",
       "      <th>both_oneoff_installment</th>\n",
       "      <th>installment</th>\n",
       "      <th>one_off</th>\n",
       "      <th>none</th>\n",
       "      <th>CREDIT_LIMIT</th>\n",
       "      <th>Cluster_4</th>\n",
       "    </tr>\n",
       "  </thead>\n",
       "  <tbody>\n",
       "    <tr>\n",
       "      <th>0</th>\n",
       "      <td>2</td>\n",
       "      <td>7.950000</td>\n",
       "      <td>0.000000</td>\n",
       "      <td>0.040901</td>\n",
       "      <td>0</td>\n",
       "      <td>1.446508</td>\n",
       "      <td>0</td>\n",
       "      <td>1</td>\n",
       "      <td>0</td>\n",
       "      <td>0</td>\n",
       "      <td>1000.0</td>\n",
       "      <td>3</td>\n",
       "    </tr>\n",
       "    <tr>\n",
       "      <th>1</th>\n",
       "      <td>0</td>\n",
       "      <td>0.000000</td>\n",
       "      <td>536.912124</td>\n",
       "      <td>0.457495</td>\n",
       "      <td>4</td>\n",
       "      <td>3.826241</td>\n",
       "      <td>0</td>\n",
       "      <td>0</td>\n",
       "      <td>0</td>\n",
       "      <td>1</td>\n",
       "      <td>7000.0</td>\n",
       "      <td>1</td>\n",
       "    </tr>\n",
       "    <tr>\n",
       "      <th>2</th>\n",
       "      <td>12</td>\n",
       "      <td>64.430833</td>\n",
       "      <td>0.000000</td>\n",
       "      <td>0.332687</td>\n",
       "      <td>0</td>\n",
       "      <td>0.991682</td>\n",
       "      <td>0</td>\n",
       "      <td>0</td>\n",
       "      <td>1</td>\n",
       "      <td>0</td>\n",
       "      <td>7500.0</td>\n",
       "      <td>0</td>\n",
       "    </tr>\n",
       "    <tr>\n",
       "      <th>3</th>\n",
       "      <td>1</td>\n",
       "      <td>124.916667</td>\n",
       "      <td>17.149001</td>\n",
       "      <td>0.222223</td>\n",
       "      <td>1</td>\n",
       "      <td>0.000000</td>\n",
       "      <td>0</td>\n",
       "      <td>0</td>\n",
       "      <td>1</td>\n",
       "      <td>0</td>\n",
       "      <td>7500.0</td>\n",
       "      <td>0</td>\n",
       "    </tr>\n",
       "    <tr>\n",
       "      <th>4</th>\n",
       "      <td>1</td>\n",
       "      <td>1.333333</td>\n",
       "      <td>0.000000</td>\n",
       "      <td>0.681429</td>\n",
       "      <td>0</td>\n",
       "      <td>2.771075</td>\n",
       "      <td>0</td>\n",
       "      <td>0</td>\n",
       "      <td>1</td>\n",
       "      <td>0</td>\n",
       "      <td>1200.0</td>\n",
       "      <td>0</td>\n",
       "    </tr>\n",
       "  </tbody>\n",
       "</table>\n",
       "</div>"
      ],
      "text/plain": [
       "   PURCHASES_TRX  Monthly_avg_purchase  Monthly_cash_advance  limit_usage  \\\n",
       "0              2              7.950000              0.000000     0.040901   \n",
       "1              0              0.000000            536.912124     0.457495   \n",
       "2             12             64.430833              0.000000     0.332687   \n",
       "3              1            124.916667             17.149001     0.222223   \n",
       "4              1              1.333333              0.000000     0.681429   \n",
       "\n",
       "   CASH_ADVANCE_TRX  payment_minpay  both_oneoff_installment  installment  \\\n",
       "0                 0        1.446508                        0            1   \n",
       "1                 4        3.826241                        0            0   \n",
       "2                 0        0.991682                        0            0   \n",
       "3                 1        0.000000                        0            0   \n",
       "4                 0        2.771075                        0            0   \n",
       "\n",
       "   one_off  none  CREDIT_LIMIT  Cluster_4  \n",
       "0        0     0        1000.0          3  \n",
       "1        0     1        7000.0          1  \n",
       "2        1     0        7500.0          0  \n",
       "3        1     0        7500.0          0  \n",
       "4        1     0        1200.0          0  "
      ]
     },
     "execution_count": 73,
     "metadata": {},
     "output_type": "execute_result"
    }
   ],
   "source": [
    "cluster_df_4.head()"
   ]
  },
  {
   "cell_type": "code",
   "execution_count": 74,
   "metadata": {},
   "outputs": [],
   "source": [
    "cluster_4=cluster_df_4.groupby('Cluster_4').apply(lambda x: x[col_kpi].mean()).T"
   ]
  },
  {
   "cell_type": "code",
   "execution_count": 75,
   "metadata": {},
   "outputs": [
    {
     "data": {
      "text/html": [
       "<div>\n",
       "<style scoped>\n",
       "    .dataframe tbody tr th:only-of-type {\n",
       "        vertical-align: middle;\n",
       "    }\n",
       "\n",
       "    .dataframe tbody tr th {\n",
       "        vertical-align: top;\n",
       "    }\n",
       "\n",
       "    .dataframe thead th {\n",
       "        text-align: right;\n",
       "    }\n",
       "</style>\n",
       "<table border=\"1\" class=\"dataframe\">\n",
       "  <thead>\n",
       "    <tr style=\"text-align: right;\">\n",
       "      <th>Cluster_4</th>\n",
       "      <th>0</th>\n",
       "      <th>1</th>\n",
       "      <th>2</th>\n",
       "      <th>3</th>\n",
       "    </tr>\n",
       "  </thead>\n",
       "  <tbody>\n",
       "    <tr>\n",
       "      <th>PURCHASES_TRX</th>\n",
       "      <td>7.118997</td>\n",
       "      <td>0.045933</td>\n",
       "      <td>33.125453</td>\n",
       "      <td>12.053860</td>\n",
       "    </tr>\n",
       "    <tr>\n",
       "      <th>Monthly_avg_purchase</th>\n",
       "      <td>69.758276</td>\n",
       "      <td>0.159337</td>\n",
       "      <td>193.696083</td>\n",
       "      <td>47.573598</td>\n",
       "    </tr>\n",
       "    <tr>\n",
       "      <th>Monthly_cash_advance</th>\n",
       "      <td>77.843485</td>\n",
       "      <td>186.298043</td>\n",
       "      <td>67.620006</td>\n",
       "      <td>33.489846</td>\n",
       "    </tr>\n",
       "    <tr>\n",
       "      <th>limit_usage</th>\n",
       "      <td>0.378727</td>\n",
       "      <td>0.576217</td>\n",
       "      <td>0.354487</td>\n",
       "      <td>0.264275</td>\n",
       "    </tr>\n",
       "    <tr>\n",
       "      <th>CASH_ADVANCE_TRX</th>\n",
       "      <td>2.864995</td>\n",
       "      <td>6.552632</td>\n",
       "      <td>2.807107</td>\n",
       "      <td>1.019300</td>\n",
       "    </tr>\n",
       "    <tr>\n",
       "      <th>payment_minpay</th>\n",
       "      <td>5.561421</td>\n",
       "      <td>9.927979</td>\n",
       "      <td>7.268605</td>\n",
       "      <td>13.402660</td>\n",
       "    </tr>\n",
       "    <tr>\n",
       "      <th>both_oneoff_installment</th>\n",
       "      <td>0.003735</td>\n",
       "      <td>0.002392</td>\n",
       "      <td>1.000000</td>\n",
       "      <td>0.001795</td>\n",
       "    </tr>\n",
       "    <tr>\n",
       "      <th>installment</th>\n",
       "      <td>0.000000</td>\n",
       "      <td>0.017225</td>\n",
       "      <td>0.000000</td>\n",
       "      <td>0.998205</td>\n",
       "    </tr>\n",
       "    <tr>\n",
       "      <th>one_off</th>\n",
       "      <td>0.996265</td>\n",
       "      <td>0.003349</td>\n",
       "      <td>0.000000</td>\n",
       "      <td>0.000000</td>\n",
       "    </tr>\n",
       "    <tr>\n",
       "      <th>none</th>\n",
       "      <td>0.000000</td>\n",
       "      <td>0.977033</td>\n",
       "      <td>0.000000</td>\n",
       "      <td>0.000000</td>\n",
       "    </tr>\n",
       "    <tr>\n",
       "      <th>CREDIT_LIMIT</th>\n",
       "      <td>4512.905630</td>\n",
       "      <td>4055.582137</td>\n",
       "      <td>5750.015565</td>\n",
       "      <td>3335.697210</td>\n",
       "    </tr>\n",
       "  </tbody>\n",
       "</table>\n",
       "</div>"
      ],
      "text/plain": [
       "Cluster_4                          0            1            2            3\n",
       "PURCHASES_TRX               7.118997     0.045933    33.125453    12.053860\n",
       "Monthly_avg_purchase       69.758276     0.159337   193.696083    47.573598\n",
       "Monthly_cash_advance       77.843485   186.298043    67.620006    33.489846\n",
       "limit_usage                 0.378727     0.576217     0.354487     0.264275\n",
       "CASH_ADVANCE_TRX            2.864995     6.552632     2.807107     1.019300\n",
       "payment_minpay              5.561421     9.927979     7.268605    13.402660\n",
       "both_oneoff_installment     0.003735     0.002392     1.000000     0.001795\n",
       "installment                 0.000000     0.017225     0.000000     0.998205\n",
       "one_off                     0.996265     0.003349     0.000000     0.000000\n",
       "none                        0.000000     0.977033     0.000000     0.000000\n",
       "CREDIT_LIMIT             4512.905630  4055.582137  5750.015565  3335.697210"
      ]
     },
     "execution_count": 75,
     "metadata": {},
     "output_type": "execute_result"
    }
   ],
   "source": [
    "cluster_4"
   ]
  },
  {
   "cell_type": "code",
   "execution_count": 77,
   "metadata": {},
   "outputs": [
    {
     "data": {
      "text/plain": [
       "<matplotlib.legend.Legend at 0x31598f0>"
      ]
     },
     "execution_count": 77,
     "metadata": {},
     "output_type": "execute_result"
    },
    {
     "data": {
      "image/png": "[encoded data removed]",
      "text/plain": [
       "<Figure size 1080x720 with 1 Axes>"
      ]
     },
     "metadata": {
      "needs_background": "light"
     },
     "output_type": "display_data"
    }
   ],
   "source": [
    "fig,ax=plt.subplots(figsize=(15,10))\n",
    "index=np.arange(len(cluster_4.columns))\n",
    "\n",
    "cash_advance=np.log(cluster_4.loc['Monthly_cash_advance',:].values)\n",
    "credit_score=(cluster_4.loc['limit_usage',:].values)\n",
    "purchase= np.log(cluster_4.loc['Monthly_avg_purchase',:].values)\n",
    "payment=cluster_4.loc['payment_minpay',:].values\n",
    "installment=cluster_4.loc['installment',:].values\n",
    "one_off=cluster_4.loc['one_off',:].values\n",
    "\n",
    "\n",
    "bar_width=.10\n",
    "b1=plt.bar(index,cash_advance,color='b',label='Monthly cash advance',width=bar_width)\n",
    "b2=plt.bar(index+bar_width,credit_score,color='m',label='Credit_score',width=bar_width)\n",
    "b3=plt.bar(index+2*bar_width,purchase,color='k',label='Avg purchase',width=bar_width)\n",
    "b4=plt.bar(index+3*bar_width,payment,color='c',label='Payment-minpayment ratio',width=bar_width)\n",
    "b5=plt.bar(index+4*bar_width,installment,color='r',label='installment',width=bar_width)\n",
    "b6=plt.bar(index+5*bar_width,one_off,color='g',label='One_off purchase',width=bar_width)\n",
    "\n",
    "plt.xlabel(\"Cluster\")\n",
    "plt.title(\"Insights\")\n",
    "plt.xticks(index + bar_width, ('Cl-0', 'Cl-1', 'Cl-2', 'Cl-3'))\n",
    "plt.legend()"
   ]
  },
  {
   "cell_type": "markdown",
   "metadata": {},
   "source": [
    "### Insights from the above graph"
   ]
  },
  {
   "cell_type": "markdown",
   "metadata": {},
   "source": [
    "### Clusters are clearly distinguishing behavior within customers\n",
    "* Cluster 0 customers are doing maximum One_Off transactions and has least payment ratio amongst all the cluster.\n",
    "* Cluster 1 is the group of customers who have highest Monthly cash advance and doing both installment as well as one_off * * * purchases, have comparatively good credit score but have poor average purchase score.\n",
    "* Cluster 2 customers have maximum Average Purchase and good Monthly cash advance but this cluster doesn't do installment or one_off purchases.\n",
    "* cluster 3 is doing maximum installment, has maximum payment too min_payment ratio and doesn't do one-off purchases"
   ]
  },
  {
   "cell_type": "markdown",
   "metadata": {},
   "source": [
    "### Percentage of each cluster in the data"
   ]
  },
  {
   "cell_type": "code",
   "execution_count": 79,
   "metadata": {},
   "outputs": [
    {
     "name": "stdout",
     "output_type": "stream",
     "text": [
      "Cluster_4   \n",
      "0          0    1874\n",
      "1          1    2090\n",
      "2          2    2758\n",
      "3          3    2228\n",
      "Name: Cluster_4, dtype: int64\n",
      "Cluster -4 \n",
      "   Size  Percentage\n",
      "0  1874   20.938547\n",
      "1  2090   23.351955\n",
      "2  2758   30.815642\n",
      "3  2228   24.893855\n"
     ]
    }
   ],
   "source": [
    "s=cluster_df_4.groupby('Cluster_4').apply(lambda x: x['Cluster_4'].value_counts())\n",
    "print(s)\n",
    "\n",
    "per=pd.Series((s.values.astype('float')/ cluster_df_4.shape[0])*100,name='Percentage')\n",
    "print(\"Cluster -4 \")\n",
    "print(pd.concat([pd.Series(s.values,name='Size'),per],axis=1))"
   ]
  },
  {
   "cell_type": "markdown",
   "metadata": {},
   "source": [
    "### Lets take 5 cluster to see the differnece "
   ]
  },
  {
   "cell_type": "code",
   "execution_count": 80,
   "metadata": {},
   "outputs": [
    {
     "data": {
      "text/plain": [
       "array([1, 0, 3, ..., 1, 0, 3])"
      ]
     },
     "execution_count": 80,
     "metadata": {},
     "output_type": "execute_result"
    }
   ],
   "source": [
    "km_5=KMeans(n_clusters=5,random_state=123)\n",
    "km_5.fit(cc_reduced)\n",
    "km_5.labels_"
   ]
  },
  {
   "cell_type": "code",
   "execution_count": 84,
   "metadata": {},
   "outputs": [
    {
     "data": {
      "text/plain": [
       "1    2131\n",
       "0    2084\n",
       "2    1985\n",
       "3    1860\n",
       "4     890\n",
       "dtype: int64"
      ]
     },
     "execution_count": 84,
     "metadata": {},
     "output_type": "execute_result"
    }
   ],
   "source": [
    "pd.Series(km_5.labels_).value_counts()"
   ]
  },
  {
   "cell_type": "code",
   "execution_count": 88,
   "metadata": {},
   "outputs": [
    {
     "data": {
      "text/plain": [
       "<matplotlib.collections.PathCollection at 0x4b4aa70>"
      ]
     },
     "execution_count": 88,
     "metadata": {},
     "output_type": "execute_result"
    },
    {
     "data": {
      "image/png": "[encoded data removed]",
      "text/plain": [
       "<Figure size 504x504 with 1 Axes>"
      ]
     },
     "metadata": {
      "needs_background": "light"
     },
     "output_type": "display_data"
    }
   ],
   "source": [
    "color_map={0:'r',1:'b',2:'g',3:'y',4:'violet'}\n",
    "label_color=[color_map[l] for l in km_5.labels_]\n",
    "plt.figure(figsize=(7,7))\n",
    "plt.scatter(cc_reduced[:,0],cc_reduced[:,1],c=label_color,cmap='Spectral',alpha=0.5)"
   ]
  },
  {
   "cell_type": "code",
   "execution_count": 89,
   "metadata": {},
   "outputs": [],
   "source": [
    "cluster_df_5=pd.concat([cc_original[col_kpi],pd.Series(km_5.labels_,name='Cluster_5')],axis=1)"
   ]
  },
  {
   "cell_type": "code",
   "execution_count": 90,
   "metadata": {},
   "outputs": [
    {
     "data": {
      "text/html": [
       "<div>\n",
       "<style scoped>\n",
       "    .dataframe tbody tr th:only-of-type {\n",
       "        vertical-align: middle;\n",
       "    }\n",
       "\n",
       "    .dataframe tbody tr th {\n",
       "        vertical-align: top;\n",
       "    }\n",
       "\n",
       "    .dataframe thead th {\n",
       "        text-align: right;\n",
       "    }\n",
       "</style>\n",
       "<table border=\"1\" class=\"dataframe\">\n",
       "  <thead>\n",
       "    <tr style=\"text-align: right;\">\n",
       "      <th>Cluster_5</th>\n",
       "      <th>0</th>\n",
       "      <th>1</th>\n",
       "      <th>2</th>\n",
       "      <th>3</th>\n",
       "      <th>4</th>\n",
       "    </tr>\n",
       "  </thead>\n",
       "  <tbody>\n",
       "    <tr>\n",
       "      <th>PURCHASES_TRX</th>\n",
       "      <td>0.035509</td>\n",
       "      <td>11.896762</td>\n",
       "      <td>34.538035</td>\n",
       "      <td>7.067742</td>\n",
       "      <td>27.553933</td>\n",
       "    </tr>\n",
       "    <tr>\n",
       "      <th>Monthly_avg_purchase</th>\n",
       "      <td>0.096572</td>\n",
       "      <td>47.243825</td>\n",
       "      <td>209.814279</td>\n",
       "      <td>68.685725</td>\n",
       "      <td>141.745121</td>\n",
       "    </tr>\n",
       "    <tr>\n",
       "      <th>Monthly_cash_advance</th>\n",
       "      <td>185.109488</td>\n",
       "      <td>19.155048</td>\n",
       "      <td>3.996969</td>\n",
       "      <td>73.635703</td>\n",
       "      <td>252.661778</td>\n",
       "    </tr>\n",
       "    <tr>\n",
       "      <th>limit_usage</th>\n",
       "      <td>0.576260</td>\n",
       "      <td>0.246733</td>\n",
       "      <td>0.262694</td>\n",
       "      <td>0.377563</td>\n",
       "      <td>0.595594</td>\n",
       "    </tr>\n",
       "    <tr>\n",
       "      <th>CASH_ADVANCE_TRX</th>\n",
       "      <td>6.454894</td>\n",
       "      <td>0.484280</td>\n",
       "      <td>0.152645</td>\n",
       "      <td>2.648387</td>\n",
       "      <td>10.521348</td>\n",
       "    </tr>\n",
       "    <tr>\n",
       "      <th>payment_minpay</th>\n",
       "      <td>9.950170</td>\n",
       "      <td>13.861937</td>\n",
       "      <td>8.569707</td>\n",
       "      <td>5.540102</td>\n",
       "      <td>3.919233</td>\n",
       "    </tr>\n",
       "    <tr>\n",
       "      <th>both_oneoff_installment</th>\n",
       "      <td>0.000000</td>\n",
       "      <td>0.000000</td>\n",
       "      <td>1.000000</td>\n",
       "      <td>0.003226</td>\n",
       "      <td>0.879775</td>\n",
       "    </tr>\n",
       "    <tr>\n",
       "      <th>installment</th>\n",
       "      <td>0.016795</td>\n",
       "      <td>1.000000</td>\n",
       "      <td>0.000000</td>\n",
       "      <td>0.000000</td>\n",
       "      <td>0.105618</td>\n",
       "    </tr>\n",
       "    <tr>\n",
       "      <th>one_off</th>\n",
       "      <td>0.003359</td>\n",
       "      <td>0.000000</td>\n",
       "      <td>0.000000</td>\n",
       "      <td>0.996774</td>\n",
       "      <td>0.014607</td>\n",
       "    </tr>\n",
       "    <tr>\n",
       "      <th>none</th>\n",
       "      <td>0.979846</td>\n",
       "      <td>0.000000</td>\n",
       "      <td>0.000000</td>\n",
       "      <td>0.000000</td>\n",
       "      <td>0.000000</td>\n",
       "    </tr>\n",
       "    <tr>\n",
       "      <th>CREDIT_LIMIT</th>\n",
       "      <td>4047.344850</td>\n",
       "      <td>3224.454896</td>\n",
       "      <td>5724.213063</td>\n",
       "      <td>4489.884490</td>\n",
       "      <td>5847.303371</td>\n",
       "    </tr>\n",
       "  </tbody>\n",
       "</table>\n",
       "</div>"
      ],
      "text/plain": [
       "Cluster_5                          0            1            2            3  \\\n",
       "PURCHASES_TRX               0.035509    11.896762    34.538035     7.067742   \n",
       "Monthly_avg_purchase        0.096572    47.243825   209.814279    68.685725   \n",
       "Monthly_cash_advance      185.109488    19.155048     3.996969    73.635703   \n",
       "limit_usage                 0.576260     0.246733     0.262694     0.377563   \n",
       "CASH_ADVANCE_TRX            6.454894     0.484280     0.152645     2.648387   \n",
       "payment_minpay              9.950170    13.861937     8.569707     5.540102   \n",
       "both_oneoff_installment     0.000000     0.000000     1.000000     0.003226   \n",
       "installment                 0.016795     1.000000     0.000000     0.000000   \n",
       "one_off                     0.003359     0.000000     0.000000     0.996774   \n",
       "none                        0.979846     0.000000     0.000000     0.000000   \n",
       "CREDIT_LIMIT             4047.344850  3224.454896  5724.213063  4489.884490   \n",
       "\n",
       "Cluster_5                          4  \n",
       "PURCHASES_TRX              27.553933  \n",
       "Monthly_avg_purchase      141.745121  \n",
       "Monthly_cash_advance      252.661778  \n",
       "limit_usage                 0.595594  \n",
       "CASH_ADVANCE_TRX           10.521348  \n",
       "payment_minpay              3.919233  \n",
       "both_oneoff_installment     0.879775  \n",
       "installment                 0.105618  \n",
       "one_off                     0.014607  \n",
       "none                        0.000000  \n",
       "CREDIT_LIMIT             5847.303371  "
      ]
     },
     "execution_count": 90,
     "metadata": {},
     "output_type": "execute_result"
    }
   ],
   "source": [
    "cluster_5=cluster_df_5.groupby('Cluster_5').apply(lambda x: x[col_kpi].mean()).T\n",
    "cluster_5"
   ]
  },
  {
   "cell_type": "code",
   "execution_count": 92,
   "metadata": {},
   "outputs": [
    {
     "data": {
      "text/plain": [
       "<matplotlib.legend.Legend at 0x131aaa90>"
      ]
     },
     "execution_count": 92,
     "metadata": {},
     "output_type": "execute_result"
    },
    {
     "data": {
      "image/png": "[encoded data removed]",
      "text/plain": [
       "<Figure size 1080x720 with 1 Axes>"
      ]
     },
     "metadata": {
      "needs_background": "light"
     },
     "output_type": "display_data"
    }
   ],
   "source": [
    "fig,ax=plt.subplots(figsize=(15,10))\n",
    "index=np.arange(len(cluster_5.columns))\n",
    "\n",
    "cash_advance=np.log(cluster_5.loc['Monthly_cash_advance',:].values)\n",
    "credit_score=(cluster_5.loc['limit_usage',:].values)\n",
    "purchase= np.log(cluster_5.loc['Monthly_avg_purchase',:].values)\n",
    "payment=cluster_5.loc['payment_minpay',:].values\n",
    "installment=cluster_5.loc['installment',:].values\n",
    "one_off=cluster_5.loc['one_off',:].values\n",
    "\n",
    "bar_width=.10\n",
    "b1=plt.bar(index,cash_advance,color='b',label='Monthly cash advance',width=bar_width)\n",
    "b2=plt.bar(index+bar_width,credit_score,color='m',label='Credit_score',width=bar_width)\n",
    "b3=plt.bar(index+2*bar_width,purchase,color='k',label='Avg purchase',width=bar_width)\n",
    "b4=plt.bar(index+3*bar_width,payment,color='c',label='Payment-minpayment ratio',width=bar_width)\n",
    "b5=plt.bar(index+4*bar_width,installment,color='r',label='installment',width=bar_width)\n",
    "b6=plt.bar(index+5*bar_width,one_off,color='g',label='One_off purchase',width=bar_width)\n",
    "\n",
    "plt.xlabel(\"Cluster\")\n",
    "plt.title(\"Insights\")\n",
    "plt.xticks(index + bar_width, ('Cl-0', 'Cl-1', 'Cl-2', 'Cl-3','Cl-4'))\n",
    "\n",
    "plt.legend()"
   ]
  },
  {
   "cell_type": "markdown",
   "metadata": {},
   "source": [
    "### With 5 clusters :\n",
    "* we have a group of customers (cluster 2) having highest avergae purchases but there is Cluster 4 also having highest cash advance & secong highest purchase behaviour but their type of purchases are same.\n",
    "\n",
    "* Cluster 0 and Cluster 4 are behaving similar in terms of Credit_limit and have cash transactions is on higher side\n",
    "\n",
    "### So we don't have quite distinguishable characteristics with 5 clusters"
   ]
  },
  {
   "cell_type": "markdown",
   "metadata": {},
   "source": [
    "### Percentage of each cluster in the data¶\n"
   ]
  },
  {
   "cell_type": "code",
   "execution_count": 93,
   "metadata": {},
   "outputs": [
    {
     "name": "stdout",
     "output_type": "stream",
     "text": [
      "Cluster_5   \n",
      "0          0    2084\n",
      "1          1    2131\n",
      "2          2    1985\n",
      "3          3    1860\n",
      "4          4     890\n",
      "Name: Cluster_5, dtype: int64\n",
      "Cluster -5 \n",
      "     Size  Percentage\n",
      "0  1874.0   23.284916\n",
      "1  2090.0   23.810056\n",
      "2  2758.0   22.178771\n",
      "3  2228.0   20.782123\n",
      "4     NaN    9.944134\n"
     ]
    }
   ],
   "source": [
    "s1=cluster_df_5.groupby('Cluster_5').apply(lambda x: x['Cluster_5'].value_counts())\n",
    "print(s1)\n",
    "\n",
    "per=pd.Series((s1.values.astype('float')/ cluster_df_5.shape[0])*100,name='Percentage')\n",
    "print(\"Cluster -5 \")\n",
    "print(pd.concat([pd.Series(s.values,name='Size'),per],axis=1))"
   ]
  },
  {
   "cell_type": "markdown",
   "metadata": {},
   "source": [
    "###  Lets take 6 clusters"
   ]
  },
  {
   "cell_type": "code",
   "execution_count": 94,
   "metadata": {},
   "outputs": [
    {
     "data": {
      "text/plain": [
       "array([0, 1, 4, ..., 0, 1, 3])"
      ]
     },
     "execution_count": 94,
     "metadata": {},
     "output_type": "execute_result"
    }
   ],
   "source": [
    "km_6=KMeans(n_clusters=6).fit(cc_reduced)\n",
    "km_6.labels_"
   ]
  },
  {
   "cell_type": "code",
   "execution_count": 95,
   "metadata": {},
   "outputs": [
    {
     "data": {
      "text/plain": [
       "<matplotlib.collections.PathCollection at 0x4b41030>"
      ]
     },
     "execution_count": 95,
     "metadata": {},
     "output_type": "execute_result"
    },
    {
     "data": {
      "image/png": "[encoded data removed]",
      "text/plain": [
       "<Figure size 504x504 with 1 Axes>"
      ]
     },
     "metadata": {
      "needs_background": "light"
     },
     "output_type": "display_data"
    }
   ],
   "source": [
    "color_map={0:'r',1:'b',2:'g',3:'c',4:'m',5:'k'}\n",
    "label_color=[color_map[l] for l in km_6.labels_]\n",
    "plt.figure(figsize=(7,7))\n",
    "plt.scatter(cc_reduced[:,0],cc_reduced[:,1],c=label_color,cmap='Spectral',alpha=0.5)\n"
   ]
  },
  {
   "cell_type": "code",
   "execution_count": 96,
   "metadata": {},
   "outputs": [],
   "source": [
    "cluster_df_6=pd.concat([cc_original[col_kpi],pd.Series(km_6.labels_,name='Cluster_6')],axis=1)"
   ]
  },
  {
   "cell_type": "code",
   "execution_count": 97,
   "metadata": {},
   "outputs": [
    {
     "data": {
      "text/html": [
       "<div>\n",
       "<style scoped>\n",
       "    .dataframe tbody tr th:only-of-type {\n",
       "        vertical-align: middle;\n",
       "    }\n",
       "\n",
       "    .dataframe tbody tr th {\n",
       "        vertical-align: top;\n",
       "    }\n",
       "\n",
       "    .dataframe thead th {\n",
       "        text-align: right;\n",
       "    }\n",
       "</style>\n",
       "<table border=\"1\" class=\"dataframe\">\n",
       "  <thead>\n",
       "    <tr style=\"text-align: right;\">\n",
       "      <th>Cluster_6</th>\n",
       "      <th>0</th>\n",
       "      <th>1</th>\n",
       "      <th>2</th>\n",
       "      <th>3</th>\n",
       "      <th>4</th>\n",
       "      <th>5</th>\n",
       "    </tr>\n",
       "  </thead>\n",
       "  <tbody>\n",
       "    <tr>\n",
       "      <th>PURCHASES_TRX</th>\n",
       "      <td>11.896762</td>\n",
       "      <td>0.033205</td>\n",
       "      <td>34.653320</td>\n",
       "      <td>5.975645</td>\n",
       "      <td>7.744735</td>\n",
       "      <td>27.742922</td>\n",
       "    </tr>\n",
       "    <tr>\n",
       "      <th>Monthly_avg_purchase</th>\n",
       "      <td>47.243825</td>\n",
       "      <td>0.098395</td>\n",
       "      <td>210.512330</td>\n",
       "      <td>54.158471</td>\n",
       "      <td>78.395143</td>\n",
       "      <td>140.643565</td>\n",
       "    </tr>\n",
       "    <tr>\n",
       "      <th>Monthly_cash_advance</th>\n",
       "      <td>19.155048</td>\n",
       "      <td>184.912834</td>\n",
       "      <td>3.942946</td>\n",
       "      <td>205.903803</td>\n",
       "      <td>3.698390</td>\n",
       "      <td>243.934772</td>\n",
       "    </tr>\n",
       "    <tr>\n",
       "      <th>limit_usage</th>\n",
       "      <td>0.246733</td>\n",
       "      <td>0.575884</td>\n",
       "      <td>0.262170</td>\n",
       "      <td>0.607337</td>\n",
       "      <td>0.244966</td>\n",
       "      <td>0.595784</td>\n",
       "    </tr>\n",
       "    <tr>\n",
       "      <th>CASH_ADVANCE_TRX</th>\n",
       "      <td>0.484280</td>\n",
       "      <td>6.435034</td>\n",
       "      <td>0.149012</td>\n",
       "      <td>7.650430</td>\n",
       "      <td>0.133109</td>\n",
       "      <td>10.057758</td>\n",
       "    </tr>\n",
       "    <tr>\n",
       "      <th>payment_minpay</th>\n",
       "      <td>13.861937</td>\n",
       "      <td>9.967837</td>\n",
       "      <td>8.610468</td>\n",
       "      <td>3.254852</td>\n",
       "      <td>6.890777</td>\n",
       "      <td>3.835641</td>\n",
       "    </tr>\n",
       "    <tr>\n",
       "      <th>both_oneoff_installment</th>\n",
       "      <td>0.000000</td>\n",
       "      <td>0.000000</td>\n",
       "      <td>1.000000</td>\n",
       "      <td>0.000000</td>\n",
       "      <td>0.009267</td>\n",
       "      <td>0.894677</td>\n",
       "    </tr>\n",
       "    <tr>\n",
       "      <th>installment</th>\n",
       "      <td>1.000000</td>\n",
       "      <td>0.017324</td>\n",
       "      <td>0.000000</td>\n",
       "      <td>0.000000</td>\n",
       "      <td>0.000000</td>\n",
       "      <td>0.105323</td>\n",
       "    </tr>\n",
       "    <tr>\n",
       "      <th>one_off</th>\n",
       "      <td>0.000000</td>\n",
       "      <td>0.000000</td>\n",
       "      <td>0.000000</td>\n",
       "      <td>1.000000</td>\n",
       "      <td>0.990733</td>\n",
       "      <td>0.000000</td>\n",
       "    </tr>\n",
       "    <tr>\n",
       "      <th>none</th>\n",
       "      <td>0.000000</td>\n",
       "      <td>0.982676</td>\n",
       "      <td>0.000000</td>\n",
       "      <td>0.000000</td>\n",
       "      <td>0.000000</td>\n",
       "      <td>0.000000</td>\n",
       "    </tr>\n",
       "    <tr>\n",
       "      <th>CREDIT_LIMIT</th>\n",
       "      <td>3224.454896</td>\n",
       "      <td>4048.925249</td>\n",
       "      <td>5722.145428</td>\n",
       "      <td>4595.923418</td>\n",
       "      <td>4468.871614</td>\n",
       "      <td>5817.157418</td>\n",
       "    </tr>\n",
       "  </tbody>\n",
       "</table>\n",
       "</div>"
      ],
      "text/plain": [
       "Cluster_6                          0            1            2            3  \\\n",
       "PURCHASES_TRX              11.896762     0.033205    34.653320     5.975645   \n",
       "Monthly_avg_purchase       47.243825     0.098395   210.512330    54.158471   \n",
       "Monthly_cash_advance       19.155048   184.912834     3.942946   205.903803   \n",
       "limit_usage                 0.246733     0.575884     0.262170     0.607337   \n",
       "CASH_ADVANCE_TRX            0.484280     6.435034     0.149012     7.650430   \n",
       "payment_minpay             13.861937     9.967837     8.610468     3.254852   \n",
       "both_oneoff_installment     0.000000     0.000000     1.000000     0.000000   \n",
       "installment                 1.000000     0.017324     0.000000     0.000000   \n",
       "one_off                     0.000000     0.000000     0.000000     1.000000   \n",
       "none                        0.000000     0.982676     0.000000     0.000000   \n",
       "CREDIT_LIMIT             3224.454896  4048.925249  5722.145428  4595.923418   \n",
       "\n",
       "Cluster_6                          4            5  \n",
       "PURCHASES_TRX               7.744735    27.742922  \n",
       "Monthly_avg_purchase       78.395143   140.643565  \n",
       "Monthly_cash_advance        3.698390   243.934772  \n",
       "limit_usage                 0.244966     0.595784  \n",
       "CASH_ADVANCE_TRX            0.133109    10.057758  \n",
       "payment_minpay              6.890777     3.835641  \n",
       "both_oneoff_installment     0.009267     0.894677  \n",
       "installment                 0.000000     0.105323  \n",
       "one_off                     0.990733     0.000000  \n",
       "none                        0.000000     0.000000  \n",
       "CREDIT_LIMIT             4468.871614  5817.157418  "
      ]
     },
     "execution_count": 97,
     "metadata": {},
     "output_type": "execute_result"
    }
   ],
   "source": [
    "cluster_6=cluster_df_6.groupby('Cluster_6').apply(lambda x: x[col_kpi].mean()).T\n",
    "cluster_6"
   ]
  },
  {
   "cell_type": "code",
   "execution_count": 98,
   "metadata": {},
   "outputs": [
    {
     "data": {
      "text/plain": [
       "<matplotlib.legend.Legend at 0x13704250>"
      ]
     },
     "execution_count": 98,
     "metadata": {},
     "output_type": "execute_result"
    },
    {
     "data": {
      "image/png": "[encoded data removed]",
      "text/plain": [
       "<Figure size 1080x720 with 1 Axes>"
      ]
     },
     "metadata": {
      "needs_background": "light"
     },
     "output_type": "display_data"
    }
   ],
   "source": [
    "fig,ax=plt.subplots(figsize=(15,10))\n",
    "index=np.arange(len(cluster_6.columns))\n",
    "\n",
    "cash_advance=np.log(cluster_6.loc['Monthly_cash_advance',:].values)\n",
    "credit_score=(cluster_6.loc['limit_usage',:].values)\n",
    "purchase= np.log(cluster_6.loc['Monthly_avg_purchase',:].values)\n",
    "payment=cluster_6.loc['payment_minpay',:].values\n",
    "installment=cluster_6.loc['installment',:].values\n",
    "one_off=cluster_6.loc['one_off',:].values\n",
    "\n",
    "bar_width=.10\n",
    "b1=plt.bar(index,cash_advance,color='b',label='Monthly cash advance',width=bar_width)\n",
    "b2=plt.bar(index+bar_width,credit_score,color='m',label='Credit_score',width=bar_width)\n",
    "b3=plt.bar(index+2*bar_width,purchase,color='k',label='Avg purchase',width=bar_width)\n",
    "b4=plt.bar(index+3*bar_width,payment,color='c',label='Payment-minpayment ratio',width=bar_width)\n",
    "b5=plt.bar(index+4*bar_width,installment,color='r',label='installment',width=bar_width)\n",
    "b6=plt.bar(index+5*bar_width,one_off,color='g',label='One_off purchase',width=bar_width)\n",
    "\n",
    "plt.xlabel(\"Cluster\")\n",
    "plt.title(\"Insights\")\n",
    "plt.xticks(index + bar_width, ('Cl-0', 'Cl-1', 'Cl-2', 'Cl-3','Cl-4','cl-5'))\n",
    "\n",
    "plt.legend()"
   ]
  },
  {
   "cell_type": "markdown",
   "metadata": {},
   "source": [
    "### Insights with 6 clusters\n",
    "* Here also groups are overlapping .\n",
    "* Cl-0 and Cl-2 behaving same\n",
    "\n",
    "### Percentage of each cluster in the data"
   ]
  },
  {
   "cell_type": "code",
   "execution_count": 99,
   "metadata": {},
   "outputs": [
    {
     "name": "stdout",
     "output_type": "stream",
     "text": [
      "Cluster_6   \n",
      "0          0    2131\n",
      "1          1    2078\n",
      "2          2    1973\n",
      "3          3     698\n",
      "4          4    1187\n",
      "5          5     883\n",
      "Name: Cluster_6, dtype: int64\n",
      "Cluster -6 \n",
      "     Size  Percentage\n",
      "0  1874.0   23.810056\n",
      "1  2090.0   23.217877\n",
      "2  2758.0   22.044693\n",
      "3  2228.0    7.798883\n",
      "4     NaN   13.262570\n",
      "5     NaN    9.865922\n"
     ]
    }
   ],
   "source": [
    "s2=cluster_df_6.groupby('Cluster_6').apply(lambda x: x['Cluster_6'].value_counts())\n",
    "print(s2)\n",
    "\n",
    "per=pd.Series((s2.values.astype('float')/ cluster_df_6.shape[0])*100,name='Percentage')\n",
    "print(\"Cluster -6 \")\n",
    "print(pd.concat([pd.Series(s.values,name='Size'),per],axis=1))"
   ]
  },
  {
   "cell_type": "markdown",
   "metadata": {},
   "source": [
    "### Checking performance metrics for k-means\n",
    "* I am validating the performnace with silhouette score"
   ]
  },
  {
   "cell_type": "code",
   "execution_count": 100,
   "metadata": {},
   "outputs": [],
   "source": [
    "from sklearn.metrics import silhouette_score"
   ]
  },
  {
   "cell_type": "code",
   "execution_count": 102,
   "metadata": {},
   "outputs": [],
   "source": [
    "score={}\n",
    "for n in range(3,10):\n",
    "    km_score=KMeans(n_clusters=n)\n",
    "    km_score.fit(cc_reduced)\n",
    "    score[n]=silhouette_score(cc_reduced,km_score.labels_)"
   ]
  },
  {
   "cell_type": "code",
   "execution_count": 103,
   "metadata": {},
   "outputs": [
    {
     "data": {
      "text/plain": [
       "<matplotlib.axes._subplots.AxesSubplot at 0x14d51170>"
      ]
     },
     "execution_count": 103,
     "metadata": {},
     "output_type": "execute_result"
    },
    {
     "data": {
      "image/png": "[encoded data removed]",
      "text/plain": [
       "<Figure size 432x288 with 1 Axes>"
      ]
     },
     "metadata": {
      "needs_background": "light"
     },
     "output_type": "display_data"
    }
   ],
   "source": [
    "pd.Series(score).plot()"
   ]
  },
  {
   "cell_type": "markdown",
   "metadata": {},
   "source": [
    "### Performance metrics also suggest that K-means with 4 cluster is able to show distinguished characteristics of each cluster."
   ]
  },
  {
   "cell_type": "markdown",
   "metadata": {},
   "source": [
    "### Marketing Strategy suggested"
   ]
  },
  {
   "cell_type": "markdown",
   "metadata": {},
   "source": [
    "### a. Group 2\n",
    "  * They are potential target customers who are paying dues and doing purchases and maintaining comparatively good credit score    ) -- we can increase credit limit or can lower down interest rate -- Can be given premium card /loyality cards to increase     transactions\n",
    "  \n",
    "### b. Group 1\n",
    "  * They have poor credit score and taking only cash on advance. We can target them by providing less interest rate on      purchase transaction\n",
    "  \n",
    "### c. Group 0\n",
    "  * This group  has minimum paying ratio and using card for just oneoff transactions (may be for utility bills only). This group seems to be risky group.\n",
    "  \n",
    "### d. Group 3\n",
    "  * This group is performing best among all as cutomers are maintaining good credit score and paying dues on time. -- Giving rewards point will make them perform more purchases."
   ]
  },
  {
   "cell_type": "code",
   "execution_count": null,
   "metadata": {},
   "outputs": [],
   "source": []
  }
 ],
 "metadata": {
  "kernelspec": {
   "display_name": "Python 3",
   "language": "python",
   "name": "python3"
  },
  "language_info": {
   "codemirror_mode": {
    "name": "ipython",
    "version": 3
   },
   "file_extension": ".py",
   "mimetype": "text/x-python",
   "name": "python",
   "nbconvert_exporter": "python",
   "pygments_lexer": "ipython3",
   "version": "3.8.8"
  }
 },
 "nbformat": 4,
 "nbformat_minor": 2
}
